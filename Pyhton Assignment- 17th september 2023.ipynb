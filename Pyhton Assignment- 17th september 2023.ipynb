{
 "cells": [
  {
   "cell_type": "markdown",
   "id": "b6d10429-e762-4336-896c-7b5b532e33da",
   "metadata": {},
   "source": [
    "# For Loop"
   ]
  },
  {
   "cell_type": "markdown",
   "id": "86c5e6a4-bd4b-40cf-ab30-9e466c05f425",
   "metadata": {},
   "source": [
    "1. Write a Python program to print numbers from 1 to 10 using a for loop."
   ]
  },
  {
   "cell_type": "code",
   "execution_count": 2,
   "id": "2d14a8f7-a0e3-4cb8-b404-8eb3476a59eb",
   "metadata": {},
   "outputs": [
    {
     "name": "stdout",
     "output_type": "stream",
     "text": [
      "1\n",
      "2\n",
      "3\n",
      "4\n",
      "5\n",
      "6\n",
      "7\n",
      "8\n",
      "9\n",
      "10\n"
     ]
    }
   ],
   "source": [
    "for i in range(1, 11):\n",
    "    print(i)"
   ]
  },
  {
   "cell_type": "markdown",
   "id": "5ca71230-f8fb-4848-b827-970b507f6c00",
   "metadata": {},
   "source": [
    "1. By using for loop inside the range of 1 to 11 because in range function if we take take the numbers from 1 to 10 then it will print the numbers from 1 to 9 thats why we take the numbers from 1 to 11\n",
    "2. Print the result."
   ]
  },
  {
   "cell_type": "markdown",
   "id": "fbea78fb-f5cf-438f-8ec8-538038f55c7b",
   "metadata": {},
   "source": [
    "2. Explain the difference between a for loop and a while loop in Python."
   ]
  },
  {
   "cell_type": "code",
   "execution_count": 3,
   "id": "b8e0594c-0e64-4f56-95cb-9ee903a3e6ca",
   "metadata": {},
   "outputs": [
    {
     "name": "stdout",
     "output_type": "stream",
     "text": [
      "1\n",
      "2\n",
      "3\n",
      "4\n",
      "5\n",
      "6\n",
      "7\n",
      "8\n",
      "9\n",
      "10\n"
     ]
    }
   ],
   "source": [
    "for i in range(1, 11):\n",
    "    print(i)"
   ]
  },
  {
   "cell_type": "markdown",
   "id": "76f7f32d-98d8-429b-b1b0-51afa111de3c",
   "metadata": {},
   "source": [
    "1. In for loop it will iterate through all the numbers within that range of numbers\n",
    "2. The for loop is used when the number of iterations is already known\n",
    "3. It will loop infinite number of time when the condition is absence\n",
    "4. Once done it cannot be repeated"
   ]
  },
  {
   "cell_type": "code",
   "execution_count": 21,
   "id": "186095f0-5d25-47b9-a52b-23eddd551129",
   "metadata": {},
   "outputs": [
    {
     "name": "stdout",
     "output_type": "stream",
     "text": [
      "1\n",
      "2\n",
      "3\n",
      "4\n",
      "5\n",
      "6\n",
      "7\n",
      "8\n",
      "9\n",
      "10\n"
     ]
    }
   ],
   "source": [
    "a = 0\n",
    "while a < 10:\n",
    "    a += 1\n",
    "    print(a)"
   ]
  },
  {
   "cell_type": "markdown",
   "id": "eda04634-5d33-4a85-b3ff-b566d1ee4957",
   "metadata": {},
   "source": [
    "1. The while loop is used when the number of iterations is unknown\n",
    "2. It gives error when the condition is absence\n",
    "3. It will repeat after every iteration\n",
    "4. It is comparatively slower than the for loop"
   ]
  },
  {
   "cell_type": "markdown",
   "id": "8a51a8ae-e1f6-4fb5-80ad-33a09208eba7",
   "metadata": {},
   "source": [
    "3. Write a Python program to calculate the sum of all numbers from 1 to 100 using a for loop."
   ]
  },
  {
   "cell_type": "code",
   "execution_count": 1,
   "id": "0b465312-b2eb-46f0-a925-e167ec96c27f",
   "metadata": {},
   "outputs": [
    {
     "name": "stdout",
     "output_type": "stream",
     "text": [
      "4950\n"
     ]
    }
   ],
   "source": [
    "total = 0\n",
    "for i in range(1, 100):\n",
    "    total += i\n",
    "print(total)"
   ]
  },
  {
   "cell_type": "markdown",
   "id": "726fd374-b17e-465e-9d7f-da1fc112e782",
   "metadata": {},
   "source": [
    "1. Create a variable called total which is set them as 0\n",
    "2. Using for loop in the range of 1 to 100 it will iterate through all the numbers within that range and store into the variable i\n",
    "3. After that it will added into the variable total after every value of i\n",
    "4. Print the result "
   ]
  },
  {
   "cell_type": "markdown",
   "id": "ee83452b-2e81-4961-a996-8557b5441f5a",
   "metadata": {},
   "source": [
    "4. Write a Python program to find the product of all elements in a list using a for loop."
   ]
  },
  {
   "cell_type": "code",
   "execution_count": 8,
   "id": "1f45e539-ebcc-4ef7-8e1b-e0209b9b7b5f",
   "metadata": {},
   "outputs": [],
   "source": [
    "a = [1, 2, 3, 4, 5, 6]"
   ]
  },
  {
   "cell_type": "code",
   "execution_count": 12,
   "id": "cdc32784-812b-4250-bc8b-7fc370e55d94",
   "metadata": {},
   "outputs": [
    {
     "name": "stdout",
     "output_type": "stream",
     "text": [
      "720\n"
     ]
    }
   ],
   "source": [
    "b = 1\n",
    "for i in a:\n",
    "    b *= i\n",
    "print(b)"
   ]
  },
  {
   "cell_type": "markdown",
   "id": "952f914d-45fb-4de7-ae4f-ea22ad310b39",
   "metadata": {},
   "source": [
    "1. Create a list of numbers inside the variable a\n",
    "2. Create a variable b which will be set them as equal to 1\n",
    "4. By using for loopm in list of a it wiil iterate through all, the numbers inside the list store intot the varibale i\n",
    "5. After that the varaible i will be multiply variable b and store into the variable b\n",
    "6. Print the result "
   ]
  },
  {
   "cell_type": "markdown",
   "id": "b48f7688-6b9f-4d8b-bf7d-6adcfd496a8b",
   "metadata": {},
   "source": [
    "6. Create a Python program that prints all even numbers from 1 to 20 using a for loop."
   ]
  },
  {
   "cell_type": "code",
   "execution_count": 13,
   "id": "14452f28-6cb8-42df-b358-04a84aa01a34",
   "metadata": {},
   "outputs": [
    {
     "name": "stdout",
     "output_type": "stream",
     "text": [
      "[2, 4, 6, 8, 10, 12, 14, 16, 18, 20]\n"
     ]
    }
   ],
   "source": [
    "a = []\n",
    "for i in range(1, 21):\n",
    "    if i % 2 == 0:\n",
    "        a.append(i)\n",
    "print(a)"
   ]
  },
  {
   "cell_type": "markdown",
   "id": "e34f5e13-9bc2-4cb9-a60c-1a7d57add11d",
   "metadata": {},
   "source": [
    "1. Create a empty list called inside the variable a \n",
    "2. By using for loop in the range of 1 to 21 it will iterate through all the numbers and store inside the variable i \n",
    "3. By using conditional statement if value store in i is divisible by 2 then it will append it to the list inside the variable and that number is even number\n",
    "4. Print the result "
   ]
  },
  {
   "cell_type": "markdown",
   "id": "aada5076-faad-4f34-8fa3-7347e4a8a9f4",
   "metadata": {},
   "source": [
    "7. Write a Python program that calculates the factorial of a number using a for loop."
   ]
  },
  {
   "cell_type": "code",
   "execution_count": 70,
   "id": "812908c9-51e4-460c-a13e-fd566c8415e1",
   "metadata": {},
   "outputs": [
    {
     "name": "stdin",
     "output_type": "stream",
     "text": [
      "Enter a number:  5\n"
     ]
    },
    {
     "name": "stdout",
     "output_type": "stream",
     "text": [
      "Factorial of the given number is:  120\n"
     ]
    }
   ],
   "source": [
    "n = int (input (\"Enter a number: \"))\n",
    "factorial = 1\n",
    "if n >= 1:\n",
    "    for i in range (1, n+1):\n",
    "        factorial=factorial *i\n",
    "print(\"Factorial of the given number is: \", factorial)"
   ]
  },
  {
   "cell_type": "markdown",
   "id": "ec2e7dfb-f3f9-400a-a359-61bd467c96af",
   "metadata": {
    "jp-MarkdownHeadingCollapsed": true,
    "tags": []
   },
   "source": [
    " 1. Create a variable which takes the input from the user in the integer form\n",
    " 2. Create a another varaibale called factorial which is equal to 1\n",
    " 3. If the user enters the number is greater than or equal to 1 then by using for loop it will iterate through all the number from 1 to n + 1\n",
    " 4. Inside the factorial varaiable we will multiply all the numbers one by one after each iteration of for loop\n",
    " 5. Print the result"
   ]
  },
  {
   "cell_type": "markdown",
   "id": "04021202-4d3d-41cd-bed5-a69aaa9806f3",
   "metadata": {},
   "source": [
    "8. How can you iterate through the characters of a string using a for loop in Python?"
   ]
  },
  {
   "cell_type": "code",
   "execution_count": 16,
   "id": "cd12dfd0-da2b-4d6b-9309-40ff816985cc",
   "metadata": {},
   "outputs": [],
   "source": [
    "a = 'Python'"
   ]
  },
  {
   "cell_type": "code",
   "execution_count": 17,
   "id": "4f8fe5a3-9dc5-4770-aeb4-be1b9975f2d4",
   "metadata": {},
   "outputs": [
    {
     "name": "stdout",
     "output_type": "stream",
     "text": [
      "P\n",
      "y\n",
      "t\n",
      "h\n",
      "o\n",
      "n\n"
     ]
    }
   ],
   "source": [
    "for i in a:\n",
    "    print(i)"
   ]
  },
  {
   "cell_type": "markdown",
   "id": "751459fb-f7d1-486f-95b4-29397006b4e9",
   "metadata": {},
   "source": [
    "1. Create a variable a which is having a string\n",
    "2. By using the for loop in a it will iterate eact character inside the variable and store into the variable i\n",
    "3. After each iteration the value of i will be changed\n",
    "4. Print the result "
   ]
  },
  {
   "cell_type": "markdown",
   "id": "98d61a86-ec2f-4fa8-b19b-3b303fba7a50",
   "metadata": {},
   "source": [
    "9. Write a Python program to find the largest number in a list using a for loop"
   ]
  },
  {
   "cell_type": "code",
   "execution_count": 18,
   "id": "3639fa61-18b8-44ef-b12d-11fb762a0436",
   "metadata": {},
   "outputs": [],
   "source": [
    "a = [100, 150, 130, 90, 105, 180, 160, 102]"
   ]
  },
  {
   "cell_type": "code",
   "execution_count": 19,
   "id": "85b31850-0402-426a-95ae-25f9ee7843d8",
   "metadata": {},
   "outputs": [
    {
     "name": "stdout",
     "output_type": "stream",
     "text": [
      "180\n"
     ]
    }
   ],
   "source": [
    "largest_number = 0\n",
    "for i in a:\n",
    "    if i > largest_number:\n",
    "        largest_number = i\n",
    "print(largest_number)"
   ]
  },
  {
   "cell_type": "markdown",
   "id": "5af51d29-f2f8-4ebd-b9b2-1e13a0242069",
   "metadata": {},
   "source": [
    "1. Create a list of numbers inside the variable a \n",
    "2. Create another variable called largest number which is set them as 0\n",
    "3. By using for loop in the list of variable a it will iterate all the numbers inside list of a and tore into the variable i\n",
    "4. By using conditonal statement after each iteration of i if i is greater than largest number that number inside i will be store into the variable largestv number\n",
    "5. Print the result"
   ]
  },
  {
   "cell_type": "markdown",
   "id": "3c60eb21-15a1-497b-8dd2-df97c4fe088d",
   "metadata": {},
   "source": [
    "10. Create a Python program that prints the Fibonacci sequence up to a specified limit using a for loop."
   ]
  },
  {
   "cell_type": "code",
   "execution_count": 34,
   "id": "bd7b62ac-c681-4ac7-b138-bcf440e73328",
   "metadata": {},
   "outputs": [
    {
     "name": "stdout",
     "output_type": "stream",
     "text": [
      "[0, 1, 1, 2, 3]\n"
     ]
    }
   ],
   "source": [
    "n = 6\n",
    "fibonacci_number = []\n",
    "a, b = 0, 1\n",
    "for i in range(1, n):\n",
    "    fibonacci_number.append(a)\n",
    "    a, b = b , b + a\n",
    "print(fibonacci_number)\n",
    "    "
   ]
  },
  {
   "cell_type": "markdown",
   "id": "8aea5947-ec87-4c06-9607-9fea2f288543",
   "metadata": {},
   "source": [
    "1. Create a specified limit variable n which is having a value of 6\n",
    "2. Create a empty list called fibonacci_number\n",
    "3. Create a first sequence of fibonacci number i.e 0 or 1\n",
    "4. By using for loop in range of 1 to specified rang e which is taken from the user \n",
    "5. We are appending the value of a inside the list of fibonacci_number \n",
    "5. By using swapping i.e. a = next value of b and b = a + b\n",
    "6. Print the result "
   ]
  },
  {
   "cell_type": "markdown",
   "id": "e0c73a50-1195-4f14-b373-dd028d865f9c",
   "metadata": {},
   "source": [
    "11. Write a Python program to count the number of vowels in a given string using a for loop"
   ]
  },
  {
   "cell_type": "code",
   "execution_count": 35,
   "id": "b21cb100-7692-4faf-9588-96d80c15eecc",
   "metadata": {},
   "outputs": [],
   "source": [
    "a = 'I am learning python'"
   ]
  },
  {
   "cell_type": "code",
   "execution_count": 37,
   "id": "5e8ef7d8-6b2f-4231-886f-60f470017a9a",
   "metadata": {},
   "outputs": [
    {
     "name": "stdout",
     "output_type": "stream",
     "text": [
      "The count of vowels is 5\n"
     ]
    }
   ],
   "source": [
    "count = 0\n",
    "for i in a:\n",
    "    if i in 'aeiou':\n",
    "        count += 1\n",
    "print(f'The count of vowels is {count}')\n",
    "        "
   ]
  },
  {
   "cell_type": "markdown",
   "id": "c140bbd7-a604-4e88-b4aa-2e2fc44f6b10",
   "metadata": {},
   "source": [
    "1. Create a string inside the variable a \n",
    "2. Create a variable count which is set them as 0\n",
    "3. By using for loop in a it will iterate each character inside the variable a \n",
    "4. By using conditional statement if any element is equal to 'aeiou' i.e vowels then it will add by 1 into the count variable \n",
    "5. Print the reault "
   ]
  },
  {
   "cell_type": "markdown",
   "id": "cf99056b-cc1e-407d-a302-123870e3a375",
   "metadata": {},
   "source": [
    "12. Create a Python program that generates a multiplication table for a given number using a for loop."
   ]
  },
  {
   "cell_type": "code",
   "execution_count": 38,
   "id": "ae146541-ccc3-4fb1-9eb1-1c7d946fca36",
   "metadata": {},
   "outputs": [
    {
     "name": "stdin",
     "output_type": "stream",
     "text": [
      "Enter the number:  4\n"
     ]
    }
   ],
   "source": [
    "a = int(input('Enter the number: '))"
   ]
  },
  {
   "cell_type": "code",
   "execution_count": 39,
   "id": "db87eee5-a811-4698-b88a-ec50f9f63989",
   "metadata": {},
   "outputs": [
    {
     "name": "stdout",
     "output_type": "stream",
     "text": [
      "4 * 1 : 4\n",
      "4 * 2 : 8\n",
      "4 * 3 : 12\n",
      "4 * 4 : 16\n",
      "4 * 5 : 20\n",
      "4 * 6 : 24\n",
      "4 * 7 : 28\n",
      "4 * 8 : 32\n",
      "4 * 9 : 36\n",
      "4 * 10 : 40\n"
     ]
    }
   ],
   "source": [
    "for i in range(1, 11):\n",
    "    print(f'{a} * {i} : {a * i}')"
   ]
  },
  {
   "cell_type": "markdown",
   "id": "97c1507c-f4d8-4ca8-8410-16ab8fc8fca2",
   "metadata": {},
   "source": [
    "1. Create a variable a which takes the input from the user\n",
    "2. By using for loop in the range of 1 to 11 it will iterate through all the numbers and store into the variable i\n",
    "3. After each iteration the user which have enter the number that will have multiply by variable i\n",
    "4. Print the result "
   ]
  },
  {
   "cell_type": "markdown",
   "id": "028c4964-2e58-4f95-bf78-eb6cbb2d9cf7",
   "metadata": {},
   "source": [
    "13. Write a Python program to reverse a list using a for loop."
   ]
  },
  {
   "cell_type": "code",
   "execution_count": 65,
   "id": "07c1b06b-2f01-422c-92d8-1a7b9d204ec7",
   "metadata": {},
   "outputs": [],
   "source": [
    "a = [10, 20, 30]"
   ]
  },
  {
   "cell_type": "code",
   "execution_count": 66,
   "id": "8fc0f5a7-d89b-47f5-aad1-74db2dce794c",
   "metadata": {},
   "outputs": [],
   "source": [
    "longest_number = 0\n",
    "shortest_number = 0\n",
    "second_number = 0\n",
    "reverse_list = []\n",
    "for i in a:\n",
    "    if i > longest_number:\n",
    "        longest_number = i\n",
    "for i in a:\n",
    "    if i < longest_number:\n",
    "        second_number = i\n",
    "for i in a:\n",
    "    if i < second_number:\n",
    "        shortest_number = i\n",
    "reverse_list.append(longest_number)\n",
    "reverse_list.append(second_number)\n",
    "reverse_list.append(shortest_number)"
   ]
  },
  {
   "cell_type": "code",
   "execution_count": 68,
   "id": "9f75d431-b511-4034-8e7a-2dad41e7f9ee",
   "metadata": {},
   "outputs": [
    {
     "name": "stdout",
     "output_type": "stream",
     "text": [
      "[30, 20, 10]\n"
     ]
    }
   ],
   "source": [
    "print(reverse_list)"
   ]
  },
  {
   "cell_type": "markdown",
   "id": "6df5c8f3-3eb4-4068-ac3a-a1b9b1c4be35",
   "metadata": {},
   "source": [
    "1. Create a list of numbers inside the variable a \n",
    "2. Create a empty list called reverse_list\n",
    "3. By using for loop in a if the number is less than the longest_number then it will store into the varaiable longest_number same procedure will be applied for second number and shortest number\n",
    "4. print the result "
   ]
  },
  {
   "cell_type": "markdown",
   "id": "1a8bf121-5b1e-4cb8-a06f-3b2682e24a4b",
   "metadata": {},
   "source": [
    "14. Write a Python program to find the common elements between two lists using a for loop."
   ]
  },
  {
   "cell_type": "code",
   "execution_count": 69,
   "id": "e0221fcb-84c9-4d3f-aac0-e143191d7db7",
   "metadata": {},
   "outputs": [],
   "source": [
    "a = [1, 2, 3, 4, 5, 6]\n",
    "b = [5, 6, 7, 8, 9, 10]"
   ]
  },
  {
   "cell_type": "code",
   "execution_count": 70,
   "id": "75b92085-eca9-47cc-a216-d3f2750f0eb8",
   "metadata": {},
   "outputs": [
    {
     "name": "stdout",
     "output_type": "stream",
     "text": [
      "[5, 6]\n"
     ]
    }
   ],
   "source": [
    "common_element = []\n",
    "for i in a:\n",
    "    if i in b:\n",
    "        common_element.append(i)\n",
    "print(common_element)      "
   ]
  },
  {
   "cell_type": "markdown",
   "id": "cd8cf76b-11fc-446e-9a15-42a331e507e4",
   "metadata": {},
   "source": [
    "1. Create a two list of numbers inside the variable a and b\n",
    "2. Create a empty list inside the variable called common_element\n",
    "3. By using for loop it will iterate through all the elements inside vraible a and store them into i\n",
    "4. After each iteration by using conditional staement if any element in i is in the list of varaible b then that number will be append it to the common element\n",
    "5. print the result "
   ]
  },
  {
   "cell_type": "markdown",
   "id": "fe0dff17-adda-463d-b449-f9e7f671ae82",
   "metadata": {},
   "source": [
    "15. Explain how to use a for loop to iterate through the keys and values of a dictionary in Python."
   ]
  },
  {
   "cell_type": "code",
   "execution_count": 72,
   "id": "e6fe63dc-4e23-41e9-a650-cbe2675c5132",
   "metadata": {},
   "outputs": [],
   "source": [
    "a = {'a' : 'apple', 'b' : 'ball', 'c' : 'cat', 'd': 'dog'}"
   ]
  },
  {
   "cell_type": "code",
   "execution_count": 73,
   "id": "f440638d-303d-4604-983f-06114e02e3c1",
   "metadata": {},
   "outputs": [
    {
     "name": "stdout",
     "output_type": "stream",
     "text": [
      "a\n",
      "apple\n",
      "b\n",
      "ball\n",
      "c\n",
      "cat\n",
      "d\n",
      "dog\n"
     ]
    }
   ],
   "source": [
    "for key,value in a.items():\n",
    "    print(key)\n",
    "    print(value)"
   ]
  },
  {
   "cell_type": "markdown",
   "id": "4c6092f4-9a7b-45c9-96fd-0b0b66f38237",
   "metadata": {},
   "source": [
    "1. Create a dictionary inside the variable a \n",
    "2. By using for loop using two variable key and value in a.items() method will give all the keys and values inside the dictionary\n",
    "3. Print the result"
   ]
  },
  {
   "cell_type": "markdown",
   "id": "7b8dd8b4-29a0-47c7-a291-ca4dc3f7c4cc",
   "metadata": {},
   "source": [
    "16. Write a Python program to find the GCD (Greatest Common Divisor) of two numbers using a for loop."
   ]
  },
  {
   "cell_type": "code",
   "execution_count": 74,
   "id": "8e4a8019-d6e4-49b2-87f8-bae542601632",
   "metadata": {},
   "outputs": [
    {
     "name": "stdin",
     "output_type": "stream",
     "text": [
      "Enter the number:  24\n",
      "Enter the number:  54\n"
     ]
    }
   ],
   "source": [
    "a = int(input('Enter the number: '))\n",
    "b = int(input('Enter the number: '))"
   ]
  },
  {
   "cell_type": "code",
   "execution_count": 75,
   "id": "0445d55c-56ab-4399-b73e-c7725b1a5b85",
   "metadata": {},
   "outputs": [],
   "source": [
    "def gcd(num1, num2):\n",
    "    divisor_1 = []\n",
    "    divisor_2 = []\n",
    "    common_element = []\n",
    "    for i in range(1, 100):\n",
    "        if num1 % i == 0:\n",
    "            divisor_1.append(i)\n",
    "        if num2 % i == 0:\n",
    "            divisor_2.append(i)\n",
    "        \n",
    "    for j in divisor_1:\n",
    "        if j in divisor_2:\n",
    "            common_element.append(j)\n",
    "    \n",
    "    return max(common_element)"
   ]
  },
  {
   "cell_type": "code",
   "execution_count": 77,
   "id": "57f6c9b0-e04e-4d9d-b5ea-518fa2bfbca4",
   "metadata": {},
   "outputs": [
    {
     "name": "stdout",
     "output_type": "stream",
     "text": [
      "Greatest Common Divisior between 24 and 54 is 6\n"
     ]
    }
   ],
   "source": [
    "print(f\"Greatest Common Divisior between {a} and {b} is {gcd(a, b)}\")"
   ]
  },
  {
   "cell_type": "markdown",
   "id": "17613542-f785-4013-971f-c46041d89deb",
   "metadata": {},
   "source": [
    "1. Create a variable a and variable which takes the input from the user in integer\n",
    "2. We create a function called gcd which takes twon arguments\n",
    "3. Inside the gcd function we created a empty list inside the variable divisor_1, divisor_2 and common_element\n",
    "4. Using for loop within the range of 1 to 100 if in first number is divisible by any number which is stored inside the variable i we are appending that number into the divisor_1\n",
    "5. Similarly we follow the same steps for divisor_2 as divisor_1\n",
    "6. Applying another for loop and it will iterate through all the number inside the divisor_1 and store into the j variable\n",
    "7. If number inside the j variable is present inside the list of divisor_2 then that number will be appended to the list of common_elemen\n",
    "8. We are returning the maximum number within that common_element list\n",
    "9. Print the result"
   ]
  },
  {
   "cell_type": "markdown",
   "id": "b077e072-05fc-480f-8168-e3a46214becb",
   "metadata": {},
   "source": [
    "17. Create a Python program that checks if a string is a palindrome using a for loop."
   ]
  },
  {
   "cell_type": "code",
   "execution_count": 78,
   "id": "de079754-e4ef-4527-989b-b824aa74bae2",
   "metadata": {},
   "outputs": [],
   "source": [
    "a = 'rotator'"
   ]
  },
  {
   "cell_type": "code",
   "execution_count": 79,
   "id": "77513fee-c5ff-4c50-ad25-bc8dc7a1bcb4",
   "metadata": {},
   "outputs": [],
   "source": [
    "b = a.split()"
   ]
  },
  {
   "cell_type": "code",
   "execution_count": 81,
   "id": "1fc00b72-d098-4899-8b57-911d54aba1dc",
   "metadata": {},
   "outputs": [
    {
     "name": "stdout",
     "output_type": "stream",
     "text": [
      "These string is palindrome\n"
     ]
    }
   ],
   "source": [
    "for i in b:\n",
    "    if i == i[::-1]:\n",
    "        print('These string is palindrome')\n",
    "    else:\n",
    "        print('These string is not a palindrome')"
   ]
  },
  {
   "cell_type": "markdown",
   "id": "3fde637c-4230-4818-94a1-da047c3c7f5c",
   "metadata": {},
   "source": [
    "1. Create a variable a inside that variable wea re defining one string\n",
    "2. We are converting that string into an list and store inside the variable b \n",
    "3. By using for loop in variable b by using conditional statement if the normal string is equal to the reverse string then print These string is palindrome else its not a palindrome"
   ]
  },
  {
   "cell_type": "markdown",
   "id": "8df54396-f042-4a66-bfd6-f42dbf4de2a1",
   "metadata": {},
   "source": [
    "18. Write a Python program to remove duplicates from a list using a for loop."
   ]
  },
  {
   "cell_type": "code",
   "execution_count": 82,
   "id": "fd379e45-a106-4916-9a5b-4a381af2339d",
   "metadata": {},
   "outputs": [],
   "source": [
    "a = [1, 2, 3, 3, 4, 5]"
   ]
  },
  {
   "cell_type": "code",
   "execution_count": 83,
   "id": "5098b422-f3c9-4658-8a3e-8ffac0927e97",
   "metadata": {},
   "outputs": [
    {
     "name": "stdout",
     "output_type": "stream",
     "text": [
      "[1, 2, 3, 4, 5]\n"
     ]
    }
   ],
   "source": [
    "for i in a:\n",
    "    if a.count(i) > 1:\n",
    "        a.remove(i)\n",
    "print(a)"
   ]
  },
  {
   "cell_type": "markdown",
   "id": "b64bd53b-2542-4891-893e-c6636944595e",
   "metadata": {},
   "source": [
    "1. Create a list inside the variable a \n",
    "2. By using for loop in a it will iterate through all the numbers inside the variable list of a and store into the variable i \n",
    "3. By using conditional statement and count method to count the number of element inside the list of variable a if any element count is more than one then remove that element from the list \n",
    "4. Print the result"
   ]
  },
  {
   "cell_type": "markdown",
   "id": "a388cdec-3379-4e04-8d70-453de06dd265",
   "metadata": {},
   "source": [
    "19. Create a Python program that counts the number of words in a sentence using a for loop."
   ]
  },
  {
   "cell_type": "code",
   "execution_count": 84,
   "id": "8214eadc-5002-481f-ad6c-9d371dbc9643",
   "metadata": {},
   "outputs": [],
   "source": [
    "a = 'I am learning python'"
   ]
  },
  {
   "cell_type": "code",
   "execution_count": 86,
   "id": "9dcbbc15-c98b-48fc-bb09-8e7862a46ce5",
   "metadata": {},
   "outputs": [
    {
     "name": "stdout",
     "output_type": "stream",
     "text": [
      "Count of words in a sentence is 20\n"
     ]
    }
   ],
   "source": [
    "count = 0\n",
    "for i in a:\n",
    "    count +=1\n",
    "print(f'Count of words in a sentence is {count}')"
   ]
  },
  {
   "cell_type": "markdown",
   "id": "422b7c29-41f0-4151-81de-22f72ddfce2a",
   "metadata": {},
   "source": [
    "1. Create a variable a which define one string \n",
    "2. Create another variable count which is set them as 0\n",
    "3. By using for loop in variable a it will iterate through eachb character inside a and store them into i\n",
    "4. After each iteration of characters inside i then it will add =1 into the variable count\n",
    "5. Print the result"
   ]
  },
  {
   "cell_type": "markdown",
   "id": "54a70755-c087-4409-964b-2bd8f7394e07",
   "metadata": {},
   "source": [
    "20. Write a Python program to find the sum of all odd numbers from 1 to 50 using a for loop."
   ]
  },
  {
   "cell_type": "code",
   "execution_count": 88,
   "id": "c5c33e2e-2d9c-4779-ab1e-50fdd3705d3a",
   "metadata": {},
   "outputs": [
    {
     "name": "stdout",
     "output_type": "stream",
     "text": [
      "The sum of odd numbers is 625\n"
     ]
    }
   ],
   "source": [
    "sum_of_odd_numbers = 0\n",
    "for i in range(1, 50):\n",
    "    if i % 2 != 0:\n",
    "        sum_of_odd_numbers += i\n",
    "print(f'The sum of odd numbers is {sum_of_odd_numbers}')"
   ]
  },
  {
   "cell_type": "markdown",
   "id": "99ad611e-b8d3-4eff-b2a4-b92b642a47e8",
   "metadata": {},
   "source": [
    "1. Create if a variable called sum_of_odd_numbers which is set them as 0 \n",
    "2. By using for loop in the range of 1 to 50 it will iterate through all the numbers and store into the variable called i\n",
    "3. After each iteration by using conditional statement if the i is not divisible by 2 then that number will be added into the sum_of_odd_numbers \n",
    "4. print the result "
   ]
  },
  {
   "cell_type": "markdown",
   "id": "8236d741-0367-46b5-8efa-9e970b68a68b",
   "metadata": {},
   "source": [
    "21. Write a Python program that checks if a given year is a leap year using a for loop."
   ]
  },
  {
   "cell_type": "code",
   "execution_count": 110,
   "id": "78828ac0-c50f-4bed-b8d3-d0a9e1c0640b",
   "metadata": {},
   "outputs": [
    {
     "name": "stdin",
     "output_type": "stream",
     "text": [
      "Enter the year:  2024\n"
     ]
    }
   ],
   "source": [
    "year = int(input('Enter the year: '))"
   ]
  },
  {
   "cell_type": "code",
   "execution_count": 117,
   "id": "363a2cc7-baae-4a6f-b5f8-a43198854c45",
   "metadata": {},
   "outputs": [],
   "source": [
    "def is_leap(num):\n",
    "    for i in range(5):\n",
    "        if year % 4 == 0:\n",
    "            return 'Leap year'\n",
    "        elif year % 1 and year % 2 and year % 3:\n",
    "            return 'Not a leap year'"
   ]
  },
  {
   "cell_type": "code",
   "execution_count": 118,
   "id": "873c076d-fa06-4e13-bc25-3558fd25dd7e",
   "metadata": {},
   "outputs": [
    {
     "data": {
      "text/plain": [
       "'Leap year'"
      ]
     },
     "execution_count": 118,
     "metadata": {},
     "output_type": "execute_result"
    }
   ],
   "source": [
    "is_leap(year)"
   ]
  },
  {
   "cell_type": "markdown",
   "id": "b9fa618f-6f54-43b8-8bc2-b1e7f45e4484",
   "metadata": {},
   "source": [
    "1. Create a variable called year which takes input from the user\n",
    "2. Create a fucntion called is_leap which takes one argument inside the function by using for loop in range if the given year is divisible by 4 then that year is leap year other wise it is not a leap year\n",
    "3. Print the result"
   ]
  },
  {
   "cell_type": "markdown",
   "id": "150d17c0-2d4d-425b-b54f-0c6a3d933982",
   "metadata": {},
   "source": [
    "22. Create a Python program that calculates the square root of a number using a for loop."
   ]
  },
  {
   "cell_type": "code",
   "execution_count": 138,
   "id": "12ac0b19-0ffd-4a95-ae16-9c9a714e41f1",
   "metadata": {},
   "outputs": [
    {
     "name": "stdin",
     "output_type": "stream",
     "text": [
      "Enter the number:  25\n"
     ]
    }
   ],
   "source": [
    "a = int(input(\"Enter the number: \"))"
   ]
  },
  {
   "cell_type": "code",
   "execution_count": 146,
   "id": "fd059b23-1104-45a9-9cb4-9456fb1dfa4e",
   "metadata": {},
   "outputs": [
    {
     "name": "stdout",
     "output_type": "stream",
     "text": [
      " The square root of 25 is 5\n"
     ]
    }
   ],
   "source": [
    "for i in range(1, a):\n",
    "    if i * i == a:\n",
    "        print(f' The square root of {a} is {i}')"
   ]
  },
  {
   "cell_type": "markdown",
   "id": "21919254-7136-4968-9817-b6dd6a25dbcc",
   "metadata": {},
   "source": [
    "1. Create a variable a which takes input from the user\n",
    "2. By using for in range 1 to a which takes from the user if any square of a number is equal to the user has enter then print square of that number\n",
    "3. Print the result"
   ]
  },
  {
   "cell_type": "markdown",
   "id": "55bf1fe0-9ace-42c7-a5f3-0e360789c40b",
   "metadata": {},
   "source": [
    "23. Write a Python program to find the LCM (Least Common Multiple) of two numbers using a for loop."
   ]
  },
  {
   "cell_type": "code",
   "execution_count": 154,
   "id": "c412db48-605d-4566-b703-765f445c43a7",
   "metadata": {},
   "outputs": [
    {
     "name": "stdin",
     "output_type": "stream",
     "text": [
      "Enter the number:  24\n",
      "Enter the number:  36\n"
     ]
    }
   ],
   "source": [
    "a = int(input('Enter the number: '))\n",
    "b = int(input('Enter the number: '))"
   ]
  },
  {
   "cell_type": "code",
   "execution_count": 156,
   "id": "0a868b53-0576-4bf1-97bf-6387addada40",
   "metadata": {},
   "outputs": [],
   "source": [
    "def lcm(num1, num2):\n",
    "    multiple_1 = []\n",
    "    multiple_2 = []\n",
    "    lcm = []\n",
    "    for i in range(1, 11):\n",
    "        multiple_1.append(a * i)\n",
    "        multiple_2.append(b * i)\n",
    "    for j in multiple_1:\n",
    "        if j in multiple_2:\n",
    "            lcm.append(j)\n",
    "    print(f'The Least Common Multiple(LCM) of {a} and {b} is {min(lcm)}')"
   ]
  },
  {
   "cell_type": "code",
   "execution_count": 157,
   "id": "6af5beff-d74c-4aa2-a005-ff5c130e0be8",
   "metadata": {},
   "outputs": [
    {
     "name": "stdout",
     "output_type": "stream",
     "text": [
      "The Least Common Multiple(LCM) of 24 and 36 is 72\n"
     ]
    }
   ],
   "source": [
    "lcm(a,b)"
   ]
  },
  {
   "cell_type": "markdown",
   "id": "28a72ed9-fd21-42d1-97d5-95409e73dbf5",
   "metadata": {},
   "source": [
    "1. Create a variable a and b which takes the input from the user \n",
    "2. Create a function called lcm which takes two arguments inside the function we are creating empty list multiple_1 , multiple_2 and lcm\n",
    "3. By using for loop in range 1 to 10 and multiply that numnber with the varaible a and variable b and append it to the multiple_1 and multiple_2\n",
    "4. We are using again for loop in multiple_1 if any element is common in the multiple 2 then it will append it to the list of lcm\n",
    "5. By using the min method we are printint minimum common value between both the numbers\n",
    "6. Print the result"
   ]
  },
  {
   "cell_type": "markdown",
   "id": "90bfb80a-8b6d-44f0-b7ff-d6d6fd1d479f",
   "metadata": {},
   "source": [
    "# If-Else"
   ]
  },
  {
   "cell_type": "markdown",
   "id": "f898b1f6-7f73-485a-8226-4eb5a4c5f7ce",
   "metadata": {},
   "source": [
    "1. Write a Python program to check if a number is positive, negative, or zero using an if-else statement."
   ]
  },
  {
   "cell_type": "code",
   "execution_count": 158,
   "id": "12c74a5b-4efb-4dd6-8960-ac151c4b6744",
   "metadata": {},
   "outputs": [
    {
     "name": "stdin",
     "output_type": "stream",
     "text": [
      "Enter the number:  -1\n"
     ]
    }
   ],
   "source": [
    "a = int(input('Enter the number: '))"
   ]
  },
  {
   "cell_type": "code",
   "execution_count": 159,
   "id": "9108460b-7afc-4f9a-a616-e3483e5681fa",
   "metadata": {},
   "outputs": [
    {
     "name": "stdout",
     "output_type": "stream",
     "text": [
      "The number is negative\n"
     ]
    }
   ],
   "source": [
    "if a >= 1:\n",
    "    print('The number is positive')\n",
    "elif a < 0:\n",
    "    print('The number is negative')\n",
    "else:\n",
    "    print('The number is zero')"
   ]
  },
  {
   "cell_type": "markdown",
   "id": "0f8ee2d2-8d12-4e9b-b726-2d39bddebbf8",
   "metadata": {},
   "source": [
    "1. Create a variable a which takes the input from the user \n",
    "2. By using condiional statement if any number is greater than or equal to 1 than that number is positive number \n",
    "3. Elif any number less than zero than that number is negative number.\n",
    "4. If none of the condition is true than the number is zero"
   ]
  },
  {
   "cell_type": "markdown",
   "id": "aae2608c-e3bb-44c9-9225-e28156638419",
   "metadata": {},
   "source": [
    "2. Create a Python program that checks if a given number is even or odd using an if-else statement."
   ]
  },
  {
   "cell_type": "code",
   "execution_count": 1,
   "id": "17c476fe-5c10-4892-bb35-ed42479eed33",
   "metadata": {},
   "outputs": [
    {
     "name": "stdin",
     "output_type": "stream",
     "text": [
      "Enter the number:  24\n"
     ]
    }
   ],
   "source": [
    "a = int(input('Enter the number: '))"
   ]
  },
  {
   "cell_type": "code",
   "execution_count": 2,
   "id": "2bd331b9-1299-4b86-bbe4-f94cb56beb8b",
   "metadata": {},
   "outputs": [
    {
     "name": "stdout",
     "output_type": "stream",
     "text": [
      "The number 24 is even number\n"
     ]
    }
   ],
   "source": [
    "if a % 2 == 0:\n",
    "    print(f'The number {a} is even number')\n",
    "else:\n",
    "    print(f'The numbe {a} is odd number')"
   ]
  },
  {
   "cell_type": "markdown",
   "id": "ee8db45d-3dbc-4080-836d-dde652fb7752",
   "metadata": {},
   "source": [
    "1. Create a variable a which takes the input from the user \n",
    "2. By using the condition statement if the user enter number is cleanly divisible by 2 then that number is even number otherwise that number is odd number\n",
    "3. Print the result "
   ]
  },
  {
   "cell_type": "markdown",
   "id": "a009e873-4c5d-446d-8c5c-83131800ff68",
   "metadata": {},
   "source": [
    "3. How can you use nested if-else statements in Python, and provide an example?"
   ]
  },
  {
   "cell_type": "code",
   "execution_count": 9,
   "id": "7758d7f2-8918-4ad4-8107-ca0e4b50908f",
   "metadata": {},
   "outputs": [],
   "source": [
    "def is_prime(num):\n",
    "    prime = True\n",
    "    for i in range(2 , num):\n",
    "        if num % i == 0:\n",
    "            return False\n",
    "    if prime:\n",
    "        print('These is an prime number')\n",
    "    else:\n",
    "        print('These is not an prime number')"
   ]
  },
  {
   "cell_type": "code",
   "execution_count": 10,
   "id": "43a4c960-47aa-4da3-af86-7dc60f804586",
   "metadata": {},
   "outputs": [
    {
     "name": "stdout",
     "output_type": "stream",
     "text": [
      "These is an prime number\n"
     ]
    }
   ],
   "source": [
    "is_prime(2)"
   ]
  },
  {
   "cell_type": "markdown",
   "id": "ad91db89-4668-4d43-943e-b2482c8dd423",
   "metadata": {},
   "source": [
    "1. Create a function called is_prime inside the is_prime function we are creating a Variable prime which having boolean data type and set them as true\n",
    "2. By using range in 2 to user enter the number if any number which have enter by the user is divisible by any number which is equal to 0 then it is not a prime number \n",
    "3. If any number is not divisible by any number then that number is an prime number \n",
    "4. Print the result"
   ]
  },
  {
   "cell_type": "markdown",
   "id": "19a5e908-75cf-4b3c-8ba3-829c53ab8bfb",
   "metadata": {},
   "source": [
    "4. Write a Python program to determine the largest of three numbers using if-else."
   ]
  },
  {
   "cell_type": "code",
   "execution_count": 11,
   "id": "4ff7e9db-0b09-4d20-85e2-1d21f6c2898b",
   "metadata": {},
   "outputs": [],
   "source": [
    "a = 20\n",
    "b = 15\n",
    "c = 12"
   ]
  },
  {
   "cell_type": "code",
   "execution_count": 12,
   "id": "4c3dcfd6-33d4-4b74-92d9-01131bf3b4a0",
   "metadata": {},
   "outputs": [],
   "source": [
    "def largest_number(num1, num2, num3):\n",
    "    if num1 > num2 > num3:\n",
    "        return num1\n",
    "    if num1 < num2 > num3:\n",
    "        return num2\n",
    "    else:\n",
    "        return num3"
   ]
  },
  {
   "cell_type": "code",
   "execution_count": 13,
   "id": "94fb3671-45b5-4908-a939-22dfc9615861",
   "metadata": {},
   "outputs": [
    {
     "name": "stdout",
     "output_type": "stream",
     "text": [
      "The largest number is : 20\n"
     ]
    }
   ],
   "source": [
    "print(f\"The largest number is : {largest_number(a, b, c)}\")"
   ]
  },
  {
   "cell_type": "markdown",
   "id": "e09297af-3db1-4878-8694-234e896273cc",
   "metadata": {},
   "source": [
    "1. Create a varible a, b and c which takes the input from the user\n",
    "2. Create a function called largest_number which takes the three argument\n",
    "3. By using the conditional statement if num1 greater num2 and num3 if these condition true then return num1\n",
    "4. If num2 is greater than num1 and num3 if these condition statisfy then return num2\n",
    "5. If both the condition false then it will return num3"
   ]
  },
  {
   "cell_type": "markdown",
   "id": "c6b0305e-b0d6-4bd8-b540-f82d157f517b",
   "metadata": {},
   "source": [
    "5. Write a Python program that calculates the absolute value of a number using if-else."
   ]
  },
  {
   "cell_type": "code",
   "execution_count": 14,
   "id": "30cc9a75-cc4d-4d60-9687-199cada91633",
   "metadata": {},
   "outputs": [],
   "source": [
    "import math\n",
    "a = -4.16"
   ]
  },
  {
   "cell_type": "code",
   "execution_count": 15,
   "id": "f5189aca-79b2-4ec2-8d0c-598815b21404",
   "metadata": {},
   "outputs": [],
   "source": [
    "b = 0\n",
    "def absolute(num):\n",
    "    if complex(num):\n",
    "        b = math.sqrt(num.real **2 + num.imag **2)\n",
    "        return round(b,2)\n",
    "    \n",
    "    else:\n",
    "        if a < 1:\n",
    "            return -(num)\n",
    "        else:\n",
    "            return num"
   ]
  },
  {
   "cell_type": "code",
   "execution_count": 16,
   "id": "f9f3df65-55c4-40c8-9715-c7a16dc5213e",
   "metadata": {},
   "outputs": [
    {
     "data": {
      "text/plain": [
       "4.16"
      ]
     },
     "execution_count": 16,
     "metadata": {},
     "output_type": "execute_result"
    }
   ],
   "source": [
    "absolute(a)"
   ]
  },
  {
   "cell_type": "markdown",
   "id": "7f711d75-11a3-4a5f-a449-3c7e16b26fc5",
   "metadata": {},
   "source": [
    "1. Create a variable a which takes the input from the user\n",
    "2. For calulating absolute number we are crating a function called absolute which takes one arguments\n",
    "3. If the user type complex number then it should square real numbers and imaginary numbers as well and take out the square root of both numbers by using math module\n",
    "4. In the else statement we define another if statement that if the number is less than 1 i.e the number is minus then that number will be multiplied by - and then it return the positive number\n",
    "5. If both the condition false then that number will be return as it is."
   ]
  },
  {
   "cell_type": "markdown",
   "id": "f3a2a921-1eb2-477d-b0c0-7246b2d5f9db",
   "metadata": {},
   "source": [
    "6. Create a Python program that checks if a given character is a vowel or consonant using if-else."
   ]
  },
  {
   "cell_type": "code",
   "execution_count": 18,
   "id": "e2edc3ce-4705-4964-bc9c-0d6316204100",
   "metadata": {},
   "outputs": [],
   "source": [
    "def check_vowels_consonants(word):\n",
    "    for i in word:\n",
    "        if i in 'aeiouAEIOU':\n",
    "            print(f'{i}: Vowels')\n",
    "        else:\n",
    "            print(f'{i}: Consonants')"
   ]
  },
  {
   "cell_type": "code",
   "execution_count": 19,
   "id": "4a5188a5-eb2b-4d8d-9ce5-b7ac29aeb20c",
   "metadata": {},
   "outputs": [
    {
     "name": "stdout",
     "output_type": "stream",
     "text": [
      "p: Consonants\n",
      "y: Consonants\n",
      "t: Consonants\n",
      "h: Consonants\n",
      "o: Vowels\n",
      "n: Consonants\n"
     ]
    }
   ],
   "source": [
    "word = 'Python'\n",
    "check_vowels_consonants(word.lower())"
   ]
  },
  {
   "cell_type": "markdown",
   "id": "a15ccc75-5516-4f37-8a0b-cdca5d64acee",
   "metadata": {},
   "source": [
    "1. Create a function called check_vowels_consonants which takes 1 arguments.\n",
    "2. If any character in 'aeiou' then that characters are called vowels else consonants\n",
    "3. Print the result"
   ]
  },
  {
   "cell_type": "markdown",
   "id": "d53b19b5-d380-4a05-a83c-93609a593d41",
   "metadata": {},
   "source": [
    "7. Write a Python program to determine if a user is eligible to vote based on their age using if-else."
   ]
  },
  {
   "cell_type": "code",
   "execution_count": 20,
   "id": "86c938c9-b55b-4231-adfd-ae5d342bcdf5",
   "metadata": {},
   "outputs": [
    {
     "name": "stdin",
     "output_type": "stream",
     "text": [
      "Enter the age:  18\n"
     ]
    }
   ],
   "source": [
    "age = int(input('Enter the age: ')) "
   ]
  },
  {
   "cell_type": "code",
   "execution_count": 21,
   "id": "02a0f008-4acf-4209-9717-ea2e831db0a8",
   "metadata": {},
   "outputs": [
    {
     "name": "stdout",
     "output_type": "stream",
     "text": [
      "The person is eligible for vote\n"
     ]
    }
   ],
   "source": [
    "if age >= 18:\n",
    "    print('The person is eligible for vote')\n",
    "else:\n",
    "    print('The person is not eligible for vote')"
   ]
  },
  {
   "cell_type": "markdown",
   "id": "5e7d212e-ad6b-4064-acbc-d8ffcc8a7d56",
   "metadata": {},
   "source": [
    "1. Create variable called age which takes the input from the user\n",
    "2. If the age is greater than or equal to 18 than that person is eligible for vote otherwise it is not eligible for vote"
   ]
  },
  {
   "cell_type": "markdown",
   "id": "bc41d3bb-621f-4c50-8b14-109ba46be6e5",
   "metadata": {},
   "source": [
    "8. Create a Python program that calculates the discount amount based on the purchase amount using if-else."
   ]
  },
  {
   "cell_type": "code",
   "execution_count": 22,
   "id": "90af6ffc-3c63-4b7d-933b-26d5d74400c1",
   "metadata": {},
   "outputs": [
    {
     "name": "stdin",
     "output_type": "stream",
     "text": [
      "Enter the purchase Amount: $ 100\n"
     ]
    }
   ],
   "source": [
    "amount = int(input('Enter the purchase Amount: $'))"
   ]
  },
  {
   "cell_type": "code",
   "execution_count": 23,
   "id": "9859bb46-cb68-47ca-87fb-2bc4fe2c1a7b",
   "metadata": {},
   "outputs": [
    {
     "name": "stdout",
     "output_type": "stream",
     "text": [
      " Apply 20% discount. Your total amount would be $80.0\n"
     ]
    }
   ],
   "source": [
    "if amount <= 50:\n",
    "    print(f\" Apply 5% discount. Your total amount would be ${amount - (amount * (5/100))}\")\n",
    "elif 50 < amount <= 70:\n",
    "    print(f\" Apply 10% discount. Your total amount would be ${amount - (amount * (10/100))}\")\n",
    "elif 80 <= amount < 90:\n",
    "    print(f\" Apply 15% discount. Your total amount would be ${amount - (amount * (15/100))}\")\n",
    "elif amount > 90:\n",
    "    print(f\" Apply 20% discount. Your total amount would be ${amount - (amount * (20/100))}\")"
   ]
  },
  {
   "cell_type": "markdown",
   "id": "9b0ff7ae-c982-4700-9709-dc9639dbce23",
   "metadata": {},
   "source": [
    "1. Create a variale called amount which they enter from the user\n",
    "2. By using conditional statement if amount is less than 50 dollar then we apply the discount of 5%\n",
    "3. If the amount is greater than 50 dollar or less or equal to 70 dollar then we apply the discount of 10%\n",
    "4. If the amount is greater or equal to 80 dollar or less than 90 dollar then we apply discount of 15%\n",
    "5. If the amount the is greater than 90 dollar than we appply thr discount of 20%"
   ]
  },
  {
   "cell_type": "markdown",
   "id": "30fbcad9-edc2-4f63-8db3-7a52e9b62a98",
   "metadata": {},
   "source": [
    "9. Write a Python program to check if a number is within a specified range using if-else."
   ]
  },
  {
   "cell_type": "code",
   "execution_count": 24,
   "id": "6dbb6706-efbc-4337-9c71-b5314cfe0bd9",
   "metadata": {},
   "outputs": [
    {
     "name": "stdin",
     "output_type": "stream",
     "text": [
      "Enter the number:  5\n"
     ]
    }
   ],
   "source": [
    "a = int(input('Enter the number: '))"
   ]
  },
  {
   "cell_type": "code",
   "execution_count": 25,
   "id": "b86c3787-6143-49f6-8e33-18edba8fb087",
   "metadata": {},
   "outputs": [
    {
     "name": "stdout",
     "output_type": "stream",
     "text": [
      "The number you have enter is in range\n"
     ]
    }
   ],
   "source": [
    "if a in range(1, 10):\n",
    "    print('The number you have enter is in range')\n",
    "else:\n",
    "    print('The number you have enter is not in range')"
   ]
  },
  {
   "cell_type": "markdown",
   "id": "a40fddff-8ef7-433d-a42b-a47548f980d4",
   "metadata": {},
   "source": [
    "1. Create a variable a which takes the input from the user\n",
    "2. By using conditional statement if the number in which the user have entered is in the specified range then print The number in which user have enter is in range else it is not in range\n",
    "3. Print the result"
   ]
  },
  {
   "cell_type": "markdown",
   "id": "2c7fb73c-3940-4e20-bbba-fda02cb07dc5",
   "metadata": {},
   "source": [
    "10. Create a Python program that determines the grade of a student based on their score using if-else."
   ]
  },
  {
   "cell_type": "code",
   "execution_count": 26,
   "id": "66f5c08f-6ef1-40f7-a329-7508be5f8879",
   "metadata": {},
   "outputs": [],
   "source": [
    "student_score  = {'Rahul' : 70, 'Seema' : 60, 'Ravi' : 90, 'Rajesh' : 86}"
   ]
  },
  {
   "cell_type": "code",
   "execution_count": 27,
   "id": "ae2b93d6-98dd-4f32-a106-eccf449c9469",
   "metadata": {},
   "outputs": [],
   "source": [
    "for i in student_score:\n",
    "    if student_score[i] >= 90:\n",
    "        student_score[i] = 'A'\n",
    "    elif 80 <= student_score[i] < 90:\n",
    "        student_score[i] = 'B'\n",
    "    elif 70 <= student_score[i] < 80:\n",
    "        student_score[i] = 'C'\n",
    "    elif 60 < student_score[i] < 70:\n",
    "        student_score[i] = 'D'\n",
    "    else:\n",
    "        student_score[i] = 'F'"
   ]
  },
  {
   "cell_type": "code",
   "execution_count": 28,
   "id": "1a02b4a1-1b08-4e2f-a63e-1733ebb8bf20",
   "metadata": {},
   "outputs": [
    {
     "name": "stdout",
     "output_type": "stream",
     "text": [
      "{'Rahul': 'C', 'Seema': 'F', 'Ravi': 'A', 'Rajesh': 'B'}\n"
     ]
    }
   ],
   "source": [
    "print(student_score)"
   ]
  },
  {
   "cell_type": "markdown",
   "id": "e91bdef7-6f37-47bf-b926-1f3b7825b07e",
   "metadata": {},
   "source": [
    "1. Create a dictionary called student score inside the dictionary we have created a key of student name and value there score.\n",
    "2. By using for loop it will iterating through all the keys inside the dictionary student_score\n",
    "3. By tapping into the value we are checking the score of different ranges and then as per the ranges we are replacing score in place of grades\n",
    "4. Print the result "
   ]
  },
  {
   "cell_type": "markdown",
   "id": "5e15f140-7176-4a8e-b22e-304af744232d",
   "metadata": {},
   "source": [
    "11. Write a Python program to check if a string is empty or not using if-else."
   ]
  },
  {
   "cell_type": "code",
   "execution_count": 33,
   "id": "40679519-4907-41c9-8762-d8a469a93cbd",
   "metadata": {},
   "outputs": [],
   "source": [
    "a = ''"
   ]
  },
  {
   "cell_type": "code",
   "execution_count": 34,
   "id": "d3a87a16-4e68-4fdd-85a8-f5dfee82f131",
   "metadata": {},
   "outputs": [
    {
     "name": "stdout",
     "output_type": "stream",
     "text": [
      "These string is empty\n"
     ]
    }
   ],
   "source": [
    "if a == '':\n",
    "    print('These string is empty')\n",
    "else:\n",
    "    print('These string is not empty')"
   ]
  },
  {
   "cell_type": "markdown",
   "id": "36ed22d8-9f4e-4b88-9f1f-a36f6867fa59",
   "metadata": {},
   "source": [
    "1. Create a variable a which is having a empty string\n",
    "2. If the string inside the varaible a is empty then print these string is empty otherwise these string is not empty"
   ]
  },
  {
   "cell_type": "markdown",
   "id": "37e6e7f6-d384-4d9e-a3de-6aa839a14604",
   "metadata": {},
   "source": [
    "12. Create a Python program that identifies the type of a triangle (e.g., equilateral, isosceles, or scalene) based on input values using if-else."
   ]
  },
  {
   "cell_type": "code",
   "execution_count": 35,
   "id": "6dc36b0a-c861-4f31-9cf6-169e5bf1c7b0",
   "metadata": {},
   "outputs": [],
   "source": [
    "a = 60\n",
    "b = 70\n",
    "c = 60"
   ]
  },
  {
   "cell_type": "code",
   "execution_count": 36,
   "id": "432ba756-124f-47f5-a473-ec97e4d4563f",
   "metadata": {},
   "outputs": [
    {
     "name": "stdout",
     "output_type": "stream",
     "text": [
      "These triangle isoceles\n"
     ]
    }
   ],
   "source": [
    "if a == b == c:\n",
    "    print('These triangle is equilateral triangle')\n",
    "elif a == b != c or a ==c != b:\n",
    "        print('These triangle isoceles')\n",
    "else:\n",
    "    print('These triangle is scalene')"
   ]
  },
  {
   "cell_type": "markdown",
   "id": "9b1b5401-9626-432e-bfbe-53d5f607a0a8",
   "metadata": {},
   "source": [
    "1. Create a variable a, b and c which define the angles of the triangle\n",
    "2. By using conditional statement if all sides are equal in a triangle if these condition true then print these triangle is equilateral triangle\n",
    "3. If any two sides are equal in a triangle if these condition true then these trinagle is isoceles triangle.\n",
    "4. If both the condition false then these triangle are called Scalene"
   ]
  },
  {
   "cell_type": "markdown",
   "id": "55958864-0375-4ba5-a271-2380a6762fb5",
   "metadata": {},
   "source": [
    "13. Write a Python program to determine the day of the week based on a user-provided number using if-else."
   ]
  },
  {
   "cell_type": "code",
   "execution_count": 41,
   "id": "90ea9303-c7b9-4470-849c-d4dd72b88ccf",
   "metadata": {},
   "outputs": [
    {
     "name": "stdin",
     "output_type": "stream",
     "text": [
      "Enter the number:  2\n"
     ]
    }
   ],
   "source": [
    "days = int(input('Enter the number: '))"
   ]
  },
  {
   "cell_type": "code",
   "execution_count": 42,
   "id": "8799c15e-1a3b-472d-a088-e323d0671aef",
   "metadata": {},
   "outputs": [
    {
     "name": "stdout",
     "output_type": "stream",
     "text": [
      "Tuesday\n"
     ]
    }
   ],
   "source": [
    "if days == 1:\n",
    "    print('Monday')\n",
    "elif days == 2:\n",
    "    print('Tuesday')\n",
    "elif days == 3:\n",
    "    print('Wednessday')\n",
    "elif days == 4:\n",
    "    print('Thursday')\n",
    "elif days == 5:\n",
    "    print('Friday')\n",
    "elif days == 6:\n",
    "    print('Saturday')\n",
    "elif days == 7:\n",
    "    print('Sunday')\n",
    "else:\n",
    "    print('You choose the wrong day')"
   ]
  },
  {
   "cell_type": "markdown",
   "id": "ec1c42ae-e8fd-445f-bf97-565f60e99c74",
   "metadata": {},
   "source": [
    "1. Create a variable a which takes the input from the user \n",
    "2. By using conditional statement if the user enters the number between 1 to 7 if that number condition statisfies then than day will be printed\n",
    "3. If user enter the number more than 7 days then it will printed as you chood the wrong day"
   ]
  },
  {
   "cell_type": "markdown",
   "id": "7372535f-4d45-4540-b7e2-7d97eeb0488c",
   "metadata": {},
   "source": [
    "14. Create a Python program that checks if a given year is a leap year using both if-else and a function."
   ]
  },
  {
   "cell_type": "code",
   "execution_count": 39,
   "id": "17f5bd2b-cff9-42fe-b84b-59c7db9d5643",
   "metadata": {},
   "outputs": [
    {
     "name": "stdin",
     "output_type": "stream",
     "text": [
      "Enter the year:  1992\n"
     ]
    }
   ],
   "source": [
    "year = int(input('Enter the year: '))"
   ]
  },
  {
   "cell_type": "code",
   "execution_count": 40,
   "id": "c49b4240-e420-448c-b6e0-5e8c4320f531",
   "metadata": {},
   "outputs": [
    {
     "name": "stdout",
     "output_type": "stream",
     "text": [
      "Leap year\n"
     ]
    }
   ],
   "source": [
    "if year % 4 == 0:\n",
    "    if year % 100 == 0:\n",
    "        if year % 400 == 0:\n",
    "            print('Leap Year')\n",
    "        else:\n",
    "            print('Not a leap year')\n",
    "    else:\n",
    "        print('Leap year')\n",
    "else:\n",
    "    print('Not a Leap Year')"
   ]
  },
  {
   "cell_type": "markdown",
   "id": "aa1a517c-0224-40e8-b427-f3a118767941",
   "metadata": {},
   "source": [
    "1. Create a variable year which takes the input from the user\n",
    "2. By using conditional statement if any year is evenly divisible by and evenly divisble by 400 than that year is leap year otherwise if year is evenly divisible by 100 then that year is not a leap year\n",
    "3. If any of the condition false then that year is not a leap year"
   ]
  },
  {
   "cell_type": "markdown",
   "id": "47c00b06-5675-4f8d-8480-ed224ab43ec6",
   "metadata": {},
   "source": [
    "15. How do you use the \"assert\" statement in Python to add debugging checks within if-else blocks?"
   ]
  },
  {
   "cell_type": "code",
   "execution_count": 29,
   "id": "0a6bc95e-018e-42f2-8d11-a1cc1bc9c64f",
   "metadata": {},
   "outputs": [],
   "source": [
    "a = 9"
   ]
  },
  {
   "cell_type": "code",
   "execution_count": 33,
   "id": "5eafdb86-74af-4083-a543-786e660ad697",
   "metadata": {},
   "outputs": [
    {
     "ename": "AssertionError",
     "evalue": "even Number",
     "output_type": "error",
     "traceback": [
      "\u001b[0;31m---------------------------------------------------------------------------\u001b[0m",
      "\u001b[0;31mAssertionError\u001b[0m                            Traceback (most recent call last)",
      "Cell \u001b[0;32mIn[33], line 2\u001b[0m\n\u001b[1;32m      1\u001b[0m \u001b[38;5;28;01mif\u001b[39;00m a \u001b[38;5;241m%\u001b[39m \u001b[38;5;241m2\u001b[39m \u001b[38;5;241m!=\u001b[39m \u001b[38;5;241m0\u001b[39m:\n\u001b[0;32m----> 2\u001b[0m     \u001b[38;5;28;01massert\u001b[39;00m a \u001b[38;5;241m%\u001b[39m \u001b[38;5;241m2\u001b[39m \u001b[38;5;241m==\u001b[39m \u001b[38;5;241m0\u001b[39m, \u001b[38;5;124m'\u001b[39m\u001b[38;5;124meven Number\u001b[39m\u001b[38;5;124m'\u001b[39m\n",
      "\u001b[0;31mAssertionError\u001b[0m: even Number"
     ]
    }
   ],
   "source": [
    "if a % 2 != 0:\n",
    "    assert a % 2 == 0, 'even Number'"
   ]
  },
  {
   "cell_type": "markdown",
   "id": "6106c94f-3b86-49a3-992e-1d54c5796d38",
   "metadata": {},
   "source": [
    "1. create a variable a inside the varaibale we are defining one integer\n",
    "2. By using conditional statement if any number is not equal to 0 by using assertion function if the user wants to find the even we will return a message after a assetion method"
   ]
  },
  {
   "cell_type": "markdown",
   "id": "2de90032-4cd7-401b-87af-68d33931f649",
   "metadata": {},
   "source": [
    "16. Create a Python program that determines the eligibility of a person for a senior citizen discount based on age using if-else."
   ]
  },
  {
   "cell_type": "code",
   "execution_count": 36,
   "id": "6d9cd1f3-2fc5-4380-83ff-328b6962041b",
   "metadata": {},
   "outputs": [
    {
     "name": "stdin",
     "output_type": "stream",
     "text": [
      "Enter the age:  62\n"
     ]
    }
   ],
   "source": [
    "age = int(input('Enter the age: '))"
   ]
  },
  {
   "cell_type": "code",
   "execution_count": 37,
   "id": "6c82cfb8-9fff-45d9-88f6-33735ab98dff",
   "metadata": {},
   "outputs": [
    {
     "name": "stdout",
     "output_type": "stream",
     "text": [
      "The person is eligible for senior citizen discount\n"
     ]
    }
   ],
   "source": [
    "if age >= 60:\n",
    "    print('The person is eligible for senior citizen discount')\n",
    "else:\n",
    "    print('THe person is not eligible for senior citizen discount')"
   ]
  },
  {
   "cell_type": "markdown",
   "id": "e2c345e1-2b63-499e-aaf3-c92def87b882",
   "metadata": {},
   "source": [
    "1. Create a variable age which take input from the user\n",
    "2. If the age is greater than or equal to 60 then the person is eligible for senior citizen discount else the person is not eligible for senior citizen discount."
   ]
  },
  {
   "cell_type": "markdown",
   "id": "6eaf3305-b263-430e-8325-39986794d073",
   "metadata": {},
   "source": [
    "17. Write a Python program to categorize a given character as uppercase, lowercase, or neither using if-else"
   ]
  },
  {
   "cell_type": "code",
   "execution_count": 38,
   "id": "f20ec56f-d15f-4bdb-a4d8-cad0eb332b3d",
   "metadata": {},
   "outputs": [
    {
     "name": "stdin",
     "output_type": "stream",
     "text": [
      "Enter the word:   Python@#$\n"
     ]
    }
   ],
   "source": [
    "a = input('Enter the word:  ')\n",
    "b = list(a)"
   ]
  },
  {
   "cell_type": "code",
   "execution_count": 39,
   "id": "16c84044-265e-4d62-b54d-a2dd1bb243bf",
   "metadata": {},
   "outputs": [
    {
     "name": "stdout",
     "output_type": "stream",
     "text": [
      "P: uppercase\n",
      "y: lowercase\n",
      "t: lowercase\n",
      "h: lowercase\n",
      "o: lowercase\n",
      "n: lowercase\n",
      "@ neither lower case or upper case character\n",
      "# neither lower case or upper case character\n",
      "$ neither lower case or upper case character\n"
     ]
    }
   ],
   "source": [
    "for i in b:\n",
    "    if i.isupper():\n",
    "        print(f\"{i}: uppercase\")\n",
    "    elif i.islower():\n",
    "        print(f\"{i}: lowercase\")\n",
    "    else:\n",
    "        print(f'{i} neither lower case or upper case character')"
   ]
  },
  {
   "cell_type": "markdown",
   "id": "19060018-dbe2-4a7a-a843-2e0dba7487f6",
   "metadata": {},
   "source": [
    "1. Creating a variable a which takes the input from the user in string data type\n",
    "2. Creating another b which convert the string into the list \n",
    "3. By using for loop it will iterate through all the characters inside b and store the value inside i\n",
    "4. By using conditional statement we are checking if that character is uppercase if its true that character will be printed and show the type uppercase character\n",
    "5. If that character is lowercase if its true that character will be printed and show the type lowercase character\n",
    "6. If any character in neither lower or upper case character then that character and neither lower case or upper case character will be printed "
   ]
  },
  {
   "cell_type": "markdown",
   "id": "e3e506e6-170e-4715-a551-e7d02bbecbf7",
   "metadata": {},
   "source": [
    "18. Write a Python program to determine the roots of a quadratic equation using if-else."
   ]
  },
  {
   "cell_type": "code",
   "execution_count": 40,
   "id": "0c04cdc3-dbc0-450d-823b-c9ef796f9b59",
   "metadata": {},
   "outputs": [],
   "source": [
    "import math\n",
    "a = 2\n",
    "b = -7\n",
    "c = 4"
   ]
  },
  {
   "cell_type": "code",
   "execution_count": 41,
   "id": "9fb5e2a3-dd35-4dcb-8685-0731378c2a42",
   "metadata": {},
   "outputs": [
    {
     "name": "stdout",
     "output_type": "stream",
     "text": [
      "roots of quadratic equation is (8.030776406404415, 5.969223593595585)\n"
     ]
    }
   ],
   "source": [
    "x = 0\n",
    "d = (b ** 2) - (4 *a*c)\n",
    "e = math.sqrt(d)\n",
    "if d == 0:\n",
    "    print('The equation is invalid')\n",
    "elif d !=0:\n",
    "     x = -(b) + e/(2*a), -(b) - e/(2 * a)\n",
    "print(f'roots of quadratic equation is {x}')"
   ]
  },
  {
   "cell_type": "markdown",
   "id": "162611fc-5cb2-4326-b7f9-70092efa2296",
   "metadata": {},
   "source": [
    "1. create a variable a, b and c and takes the input from the user\n",
    "2. Create another variable x which is set them as 0\n",
    "3. By using quadrtactic equation if the ans is 0 then this equation is not valid else we can we can find the quadratic equation by using the formulae\n",
    "4. Print the result"
   ]
  },
  {
   "cell_type": "markdown",
   "id": "cb6b861a-3f25-4896-9af5-8cb81da3e584",
   "metadata": {},
   "source": [
    "19. Create a Python program that checks if a given year is a century year or not using if-else."
   ]
  },
  {
   "cell_type": "code",
   "execution_count": 44,
   "id": "27bf6ee7-f8cb-43d1-a9d1-4fdab46e40a9",
   "metadata": {},
   "outputs": [
    {
     "name": "stdin",
     "output_type": "stream",
     "text": [
      "enter the year:  1700\n"
     ]
    }
   ],
   "source": [
    "year = int(input('enter the year: '))"
   ]
  },
  {
   "cell_type": "code",
   "execution_count": 45,
   "id": "f2becfc1-40c9-4363-80c8-ca8e914a4161",
   "metadata": {},
   "outputs": [
    {
     "name": "stdout",
     "output_type": "stream",
     "text": [
      "Century Year\n"
     ]
    }
   ],
   "source": [
    "if year%100 == 0:\n",
    "    print('Century Year')\n",
    "else:\n",
    "    print('Not a Century Year')"
   ]
  },
  {
   "cell_type": "markdown",
   "id": "f789b4de-db5c-48b7-9d0f-9ce8a0652db3",
   "metadata": {},
   "source": [
    "20. Write a Python program to determine if a given number is a perfect square using if-els"
   ]
  },
  {
   "cell_type": "code",
   "execution_count": 46,
   "id": "8c4dac9d-0360-48f4-a85a-3d3ab71a3a9f",
   "metadata": {},
   "outputs": [
    {
     "name": "stdin",
     "output_type": "stream",
     "text": [
      "Enter a number:  81\n"
     ]
    }
   ],
   "source": [
    "a = int(input('Enter a number: '))"
   ]
  },
  {
   "cell_type": "code",
   "execution_count": 58,
   "id": "69faf81c-6804-4b99-9b2f-f7957bff238d",
   "metadata": {},
   "outputs": [
    {
     "name": "stdout",
     "output_type": "stream",
     "text": [
      "Perfect Square\n"
     ]
    }
   ],
   "source": [
    "import math\n",
    "if math.isqrt(a) == math.isqrt(a):\n",
    "    print('Perfect Square')\n",
    "else:\n",
    "    print('Not a perfect square')"
   ]
  },
  {
   "cell_type": "markdown",
   "id": "04e9a0e9-e06e-404a-b976-5c17002e2af6",
   "metadata": {},
   "source": [
    "1. Create a variale a which takes the input from the user\n",
    "2. Import math by using math.sqrt function if both the square root is equal then it is an perfect square else ite is not an perfect square."
   ]
  },
  {
   "cell_type": "markdown",
   "id": "0deed28f-42e2-4f1c-b4db-c5d05015249e",
   "metadata": {},
   "source": [
    "21. Explain the purpose of the \"continue\" and \"break\" statements within if-else loops."
   ]
  },
  {
   "cell_type": "code",
   "execution_count": 69,
   "id": "f6124b81-9f20-4065-99b0-bc673341c3c4",
   "metadata": {},
   "outputs": [
    {
     "name": "stdout",
     "output_type": "stream",
     "text": [
      "1\n",
      "3\n",
      "5\n",
      "7\n",
      "9\n"
     ]
    }
   ],
   "source": [
    "for i in range(1, 10):\n",
    "    if i % 2 == 0:\n",
    "        continue\n",
    "    print(i)\n"
   ]
  },
  {
   "cell_type": "code",
   "execution_count": 71,
   "id": "41d103ed-f00d-461a-b30b-6eed5f3acc71",
   "metadata": {},
   "outputs": [
    {
     "name": "stdout",
     "output_type": "stream",
     "text": [
      "1\n"
     ]
    }
   ],
   "source": [
    "for i in range(1,10):\n",
    "    if i % 2 == 0:\n",
    "        break\n",
    "    print(i)"
   ]
  },
  {
   "cell_type": "markdown",
   "id": "2ced9836-a61d-4cd5-83fc-20206fe0b7ba",
   "metadata": {},
   "source": [
    "1. The main purpose of continue and break is that in the first example we have seen that we are using for loop if that we are defining one condtional statement is that if the number is divisible by 2 then continue\n",
    "2. The continue statement does is that if any number is divisible by 2 and the condition becomes true then it will print the remaining numbers in which the condition becomes false\n",
    "3. In the second example we have taken the same example but these time we are using break if any number is divisible by 2 it will stop there only and exit the loop it will not check the forward numbers."
   ]
  },
  {
   "cell_type": "markdown",
   "id": "78360b05-0618-4b62-9d8a-be139f5a4b2e",
   "metadata": {},
   "source": [
    "22. Create a Python program that calculates the BMI (Body Mass Index) of a person based on their weight and height using if-else."
   ]
  },
  {
   "cell_type": "code",
   "execution_count": 72,
   "id": "2b40b8f1-21df-47e2-9cbe-6a9a041e06c6",
   "metadata": {},
   "outputs": [
    {
     "name": "stdin",
     "output_type": "stream",
     "text": [
      "Enter your weight kg  70\n",
      "Enter your height cm  1.73\n"
     ]
    }
   ],
   "source": [
    "weight = int(input('Enter your weight kg '))\n",
    "height = float(input('Enter your height cm '))"
   ]
  },
  {
   "cell_type": "code",
   "execution_count": 73,
   "id": "2422bf87-e4aa-4f5c-8141-1e517fd4b676",
   "metadata": {},
   "outputs": [
    {
     "name": "stdout",
     "output_type": "stream",
     "text": [
      "You are BMI is 23.39\n",
      "You are having Normal Weight\n"
     ]
    }
   ],
   "source": [
    "BMI = round(weight/height ** 2,2)\n",
    "print(f'You are BMI is {BMI}')\n",
    "      \n",
    "if BMI < 18.5:\n",
    "    print('You are underweight')\n",
    "elif 18.5 <= BMI < 25:\n",
    "    print('You are having Normal Weight')\n",
    "elif 25 < BMI < 30:\n",
    "    print('You are Overweight')\n",
    "else:\n",
    "    print('You are Obese')"
   ]
  },
  {
   "cell_type": "markdown",
   "id": "63479067-8c4b-46f6-bef4-5101d27f3938",
   "metadata": {},
   "source": [
    "1. Create a variable wight and height which we will take the input from the user\n",
    "2. To calculate BMI we have an formaulae for BMI weight/height **2 \n",
    "3. By using conditional statement if the person is below 18.5 BMI than that person is underwight \n",
    "4. If the person is less than or equal to 18.5 but less than 25 BMI than that person is having Normal Weight\n",
    "5. If the person is having more than 25 BMI but less than 30 BMI than that person is having Overweight\n",
    "6. Else if any of these condition is not true then that person is obese"
   ]
  },
  {
   "cell_type": "markdown",
   "id": "4fe2f7b4-4ba7-4749-ac34-81cc36a010b5",
   "metadata": {},
   "source": [
    "23. How can you use the \"filter()\" function with if-else statements to filter elements from a list?"
   ]
  },
  {
   "cell_type": "code",
   "execution_count": 79,
   "id": "7eb93e0f-1028-4a39-bb46-1c6baa366813",
   "metadata": {},
   "outputs": [],
   "source": [
    "a = [30, 25, 60, 75, 23, 35, 90, 61, 63, 80]"
   ]
  },
  {
   "cell_type": "code",
   "execution_count": 80,
   "id": "c60affe5-d86a-41ec-b7d1-d30019d3b376",
   "metadata": {},
   "outputs": [
    {
     "name": "stdout",
     "output_type": "stream",
     "text": [
      "30\n",
      "60\n",
      "90\n",
      "80\n"
     ]
    }
   ],
   "source": [
    "def even_number(num):\n",
    "    return num % 2 == 0\n",
    "even = filter(even_number, a)\n",
    "for i in even:\n",
    "    print(i)"
   ]
  },
  {
   "cell_type": "markdown",
   "id": "2d07e5e5-5b02-4c30-bef2-02c0c8c7809a",
   "metadata": {},
   "source": [
    "1. Create a list of numbers inside the variable a\n",
    "2. for using filter function first we have create a function called even number which takes one argument inside the function if any number is divisible by 2 then it will return \n",
    "3. Filter function takes two argument first the function and that variable we want to apply that function\n",
    "4. BY using the for loop it will print all the numbers"
   ]
  },
  {
   "cell_type": "markdown",
   "id": "f3f9e486-f5bb-49dd-b676-fa7ee5fb449e",
   "metadata": {},
   "source": [
    "24. Write a Python program to determine if a given number is prime or not using if-else."
   ]
  },
  {
   "cell_type": "code",
   "execution_count": 81,
   "id": "9e23681c-05b6-463d-9271-692463a342a0",
   "metadata": {},
   "outputs": [],
   "source": [
    "def is_prime(num):\n",
    "    is_prime = True\n",
    "    for i in range(2,num):\n",
    "        if num % i == 0:\n",
    "            is_prime = False\n",
    "    if is_prime:\n",
    "        print('These is an prime number')\n",
    "    else:\n",
    "        print('These is not a prime number')"
   ]
  },
  {
   "cell_type": "code",
   "execution_count": 82,
   "id": "999fbf80-9316-4588-8f26-5b602337786d",
   "metadata": {},
   "outputs": [
    {
     "name": "stdout",
     "output_type": "stream",
     "text": [
      "These is an prime number\n"
     ]
    }
   ],
   "source": [
    "is_prime(2)"
   ]
  },
  {
   "cell_type": "markdown",
   "id": "4e9de4c4-c19a-44d6-af21-62713aac0e1c",
   "metadata": {},
   "source": [
    "1. Create a function called is_prime which takes 1 argument from the user\n",
    "2. By using for loop which is in the range of 2 to number which takes an input from the user\n",
    "3. If any number will be divide and that number having remainder 0 then that number is not prime number\n",
    "4. If any number which does not have the remainder 0 then that number is an prime number "
   ]
  },
  {
   "cell_type": "markdown",
   "id": "1cb6e55e-4429-48a8-b18e-77201c180bb2",
   "metadata": {},
   "source": [
    "# Map"
   ]
  },
  {
   "cell_type": "markdown",
   "id": "289d895d-9d5f-4487-8d24-8db4092c7f8a",
   "metadata": {},
   "source": [
    "1. Explain the purpose of the `map()` function in Python and provide an example of how it can be used to apply a function to each element of an iterable."
   ]
  },
  {
   "cell_type": "code",
   "execution_count": 1,
   "id": "beef9090-0751-46b6-a6c6-ae1afbb147df",
   "metadata": {},
   "outputs": [],
   "source": [
    "a = [1, 2, 3, 4, 5]"
   ]
  },
  {
   "cell_type": "code",
   "execution_count": 2,
   "id": "66b54681-de88-4921-bc2e-2963db6a7496",
   "metadata": {},
   "outputs": [],
   "source": [
    "def add(a):\n",
    "    return a + 2"
   ]
  },
  {
   "cell_type": "code",
   "execution_count": 3,
   "id": "834322d4-77be-4c6f-8ebd-9725c88035ea",
   "metadata": {},
   "outputs": [],
   "source": [
    "b = list(map(add, a))"
   ]
  },
  {
   "cell_type": "code",
   "execution_count": 4,
   "id": "b2f21e89-2437-4bc9-be71-2603f7655a02",
   "metadata": {},
   "outputs": [
    {
     "name": "stdout",
     "output_type": "stream",
     "text": [
      "[3, 4, 5, 6, 7]\n"
     ]
    }
   ],
   "source": [
    "print(b)"
   ]
  },
  {
   "cell_type": "markdown",
   "id": "c252d3ef-e6a5-4e81-896c-a803da38cb4c",
   "metadata": {},
   "source": [
    "1. The main purpose of the map fuction is that when want to write a statement in one line without using while loop or for loop\n",
    "2. The map function take two argument first is fuction and the second on which element it want to iterate\n",
    "3. In the above example we have create a list of numbers inside the variable a and create a function called add in they add 2 to each and every element in the list\n",
    "4. The map fucntion will map each and every element in the list and add 2 to each element and that number will be store into the list.\n",
    "5. Print the result "
   ]
  },
  {
   "cell_type": "markdown",
   "id": "e4c01d7d-cbb3-42d4-9972-50de41225f40",
   "metadata": {},
   "source": [
    "2. Write a Python program that uses the `map()` function to square each element of a list of numbers."
   ]
  },
  {
   "cell_type": "code",
   "execution_count": 5,
   "id": "0c0435d2-37f4-4b12-91f4-019c9a013dd1",
   "metadata": {},
   "outputs": [],
   "source": [
    "a = [1, 2, 3, 4, 5]"
   ]
  },
  {
   "cell_type": "code",
   "execution_count": 8,
   "id": "916cb961-335f-49fa-90ff-96b89d5894ed",
   "metadata": {},
   "outputs": [],
   "source": [
    "b = list(map(lambda a: a ** 2, a))"
   ]
  },
  {
   "cell_type": "code",
   "execution_count": 9,
   "id": "236c7695-b654-4f0e-841d-830d32d13693",
   "metadata": {},
   "outputs": [
    {
     "name": "stdout",
     "output_type": "stream",
     "text": [
      "[1, 4, 9, 16, 25]\n"
     ]
    }
   ],
   "source": [
    "print(b)"
   ]
  },
  {
   "cell_type": "markdown",
   "id": "9b218f47-e3b8-4ebe-aac7-f99485acc1d8",
   "metadata": {},
   "source": [
    "1. Create a list of numbers inside the variable a \n",
    "2. By using map fuction inside the fucntion we are usingn lambda function to square each element inside the list\n",
    "3. BY using list we are storing all element inside the list\n",
    "4. Print the result "
   ]
  },
  {
   "cell_type": "markdown",
   "id": "943fee1d-a8f4-4f31-a2ec-97acb042d3b5",
   "metadata": {},
   "source": [
    "3. How does the `map()` function differ from a list comprehension in Python, and when would you choose one over the other?"
   ]
  },
  {
   "cell_type": "code",
   "execution_count": 10,
   "id": "28915843-a276-40f9-b805-52bb261293d3",
   "metadata": {},
   "outputs": [],
   "source": [
    "a = [1, 2, 3, 4, 5]"
   ]
  },
  {
   "cell_type": "code",
   "execution_count": 13,
   "id": "92175b70-101b-4c94-be38-e4053c515cac",
   "metadata": {},
   "outputs": [],
   "source": [
    "b = [i ** 2 for i in a] # List Comprehension"
   ]
  },
  {
   "cell_type": "code",
   "execution_count": 12,
   "id": "78fac05c-232e-4e84-a9be-4f93e3185945",
   "metadata": {},
   "outputs": [
    {
     "name": "stdout",
     "output_type": "stream",
     "text": [
      "[1, 4, 9, 16, 25]\n"
     ]
    }
   ],
   "source": [
    "print(b)"
   ]
  },
  {
   "cell_type": "code",
   "execution_count": 14,
   "id": "c6d4df25-91b6-48c3-9f28-ebbfe01eae02",
   "metadata": {},
   "outputs": [],
   "source": [
    "b = list(map(lambda a: a ** 2, a)) # Map function"
   ]
  },
  {
   "cell_type": "code",
   "execution_count": 15,
   "id": "6410f172-fe14-4861-9e8d-69f126245a5d",
   "metadata": {},
   "outputs": [
    {
     "name": "stdout",
     "output_type": "stream",
     "text": [
      "[1, 4, 9, 16, 25]\n"
     ]
    }
   ],
   "source": [
    "print(b)"
   ]
  },
  {
   "cell_type": "markdown",
   "id": "fbdf72d8-6ea5-4c9e-b4b1-4fa63a7c19c5",
   "metadata": {},
   "source": [
    "1. The list comprehension is used when we want to use more complex statement in one line as compare to map function\n",
    "2. In map function first we have to define one function on the basis of that function it will iterate one by one by maping the single element\n",
    "3. So both the statement works on the similar it is our choice what we want to use on the basis of problem statement "
   ]
  },
  {
   "cell_type": "markdown",
   "id": "dfe42d2e-07f0-49f7-9866-6541bf77879a",
   "metadata": {},
   "source": [
    "4. Create a Python program that uses the `map()` function to convert a list of names to uppercase."
   ]
  },
  {
   "cell_type": "code",
   "execution_count": 16,
   "id": "158d0e04-4f8b-4e4a-b5b0-fb367d4b7820",
   "metadata": {},
   "outputs": [],
   "source": [
    "a = ['python', 'java', 'scala', 'julia']"
   ]
  },
  {
   "cell_type": "code",
   "execution_count": 18,
   "id": "72948961-1411-4197-b4b4-41b331580008",
   "metadata": {},
   "outputs": [],
   "source": [
    "b = list(map(lambda a: a.upper(), a))"
   ]
  },
  {
   "cell_type": "code",
   "execution_count": 19,
   "id": "cbf67a6d-caa6-4385-9f20-5ae8ce13eb4b",
   "metadata": {},
   "outputs": [
    {
     "name": "stdout",
     "output_type": "stream",
     "text": [
      "['PYTHON', 'JAVA', 'SCALA', 'JULIA']\n"
     ]
    }
   ],
   "source": [
    "print(b)"
   ]
  },
  {
   "cell_type": "markdown",
   "id": "51177a17-07a6-4406-9556-f9ad67d61887",
   "metadata": {},
   "source": [
    "1. Create a list of names inside the variable a \n",
    "2. By using map function inside the map function we are using lambda function that convert all the elements inside the list into uppercase \n",
    "3. Print the result"
   ]
  },
  {
   "cell_type": "markdown",
   "id": "f29504bf-7d19-4d8e-9828-7e94b322e339",
   "metadata": {},
   "source": [
    "5. Write a Python program that uses the `map()` function to calculate the length of each word in a list of strings."
   ]
  },
  {
   "cell_type": "code",
   "execution_count": 20,
   "id": "1a055448-f9dd-457f-9019-cf29598e3d34",
   "metadata": {},
   "outputs": [],
   "source": [
    "a = ['python', 'java', 'scala', 'julia']"
   ]
  },
  {
   "cell_type": "code",
   "execution_count": 21,
   "id": "7818931d-b712-4333-97a0-ff10ee4ef206",
   "metadata": {},
   "outputs": [],
   "source": [
    "b = list(map(len, a))"
   ]
  },
  {
   "cell_type": "code",
   "execution_count": 22,
   "id": "fec3e458-33e0-438d-b935-35fd12d8be3a",
   "metadata": {},
   "outputs": [
    {
     "name": "stdout",
     "output_type": "stream",
     "text": [
      "[6, 4, 5, 5]\n"
     ]
    }
   ],
   "source": [
    "print(b)"
   ]
  },
  {
   "cell_type": "markdown",
   "id": "bcfe5206-6ceb-423f-bdda-e051b42ec5e7",
   "metadata": {},
   "source": [
    "1. Create list of names inside the variable a\n",
    "2. By using the map function inside the map function we are using len fuction after each iteration it will calculate length of each word inside the list \n",
    "3. Print the result"
   ]
  },
  {
   "cell_type": "markdown",
   "id": "740a93ea-4ca3-4f27-9bd1-08260adee6a1",
   "metadata": {},
   "source": [
    "6. How can you use the `map()` function to apply a custom function to elements of multiple lists simultaneously in Python?"
   ]
  },
  {
   "cell_type": "code",
   "execution_count": 23,
   "id": "1b4ccb6c-ba59-4178-bbb1-a6fc2204f9d9",
   "metadata": {},
   "outputs": [],
   "source": [
    "a = [1, 2, 3, 4, 5]\n",
    "b = [6, 7, 8, 9, 10]"
   ]
  },
  {
   "cell_type": "code",
   "execution_count": 37,
   "id": "ff244d2d-cade-46d2-a29d-79462149c57c",
   "metadata": {},
   "outputs": [],
   "source": [
    "def multiple(n1, n2):\n",
    "    return n1 * n2"
   ]
  },
  {
   "cell_type": "code",
   "execution_count": 38,
   "id": "f96cc096-c1d6-45fd-a6be-6d0ce72358d9",
   "metadata": {},
   "outputs": [],
   "source": [
    "c = list(map(multiple, a, b)) "
   ]
  },
  {
   "cell_type": "code",
   "execution_count": 39,
   "id": "54cbff64-1d4e-4520-89e1-451465d4f90c",
   "metadata": {},
   "outputs": [
    {
     "name": "stdout",
     "output_type": "stream",
     "text": [
      "[6, 14, 24, 36, 50]\n"
     ]
    }
   ],
   "source": [
    "print(c)"
   ]
  },
  {
   "cell_type": "markdown",
   "id": "9cad44be-2853-4826-b4e3-7307f0dc42ad",
   "metadata": {},
   "source": [
    "1. Create a two list inside the variable a and b\n",
    "2. Create a function called multiple which take two argument and it will multiply with each other\n",
    "3. By using map function inside the map function we are using multiple function which multiply the iterables a and b one by one with each other\n",
    "4. print the result "
   ]
  },
  {
   "cell_type": "markdown",
   "id": "862b5d35-19be-4c97-8102-63e2b40ee884",
   "metadata": {},
   "source": [
    "7. Create a Python program that uses `map()` to convert a list of temperatures from Celsius to Fahrenheit."
   ]
  },
  {
   "cell_type": "code",
   "execution_count": 40,
   "id": "dc85d0c4-7600-4a6e-85dc-4b2520829988",
   "metadata": {},
   "outputs": [],
   "source": [
    "a = [32.6, 70, 45.5, 50.3, 60, 65]"
   ]
  },
  {
   "cell_type": "code",
   "execution_count": 44,
   "id": "d8651e0e-f151-4c07-94f8-40b89b028522",
   "metadata": {},
   "outputs": [],
   "source": [
    "b = list(map(lambda x: round(x * (9/5) + 32,1), a))"
   ]
  },
  {
   "cell_type": "code",
   "execution_count": 45,
   "id": "315ebcca-ecb2-4b7d-9e67-18beb4283e7b",
   "metadata": {},
   "outputs": [
    {
     "name": "stdout",
     "output_type": "stream",
     "text": [
      "[90.7, 158.0, 113.9, 122.5, 140.0, 149.0]\n"
     ]
    }
   ],
   "source": [
    "print(b)"
   ]
  },
  {
   "cell_type": "markdown",
   "id": "d12af70e-4c02-46e8-9131-b91caed75f6b",
   "metadata": {},
   "source": [
    "1. Create a list of celcius temperature inside the variable a\n",
    "2. By using the map function inside the map function we are using the lambda fucntion inside the lambda function we are using the conversion formulae for celcius to farhenheit and iterate with the list of variable a \n",
    "3. The map function will take the element one by one and convert it into the farhenheit \n",
    "4. Print the result "
   ]
  },
  {
   "cell_type": "markdown",
   "id": "43ab5a87-6c12-4a1f-91d0-e03384cf341e",
   "metadata": {},
   "source": [
    "8. Write a Python program that uses the `map()` function to round each element of a list of floating-point numbers to the nearest integer."
   ]
  },
  {
   "cell_type": "code",
   "execution_count": 46,
   "id": "0f024155-c640-40b3-85ea-60acd089b833",
   "metadata": {},
   "outputs": [],
   "source": [
    "a = [33.2 , 44.6, 77.8, 21.3]"
   ]
  },
  {
   "cell_type": "code",
   "execution_count": 47,
   "id": "2fa5c380-296a-4d1a-9950-6e37397c72c5",
   "metadata": {},
   "outputs": [],
   "source": [
    "b = list(map(round, a))"
   ]
  },
  {
   "cell_type": "code",
   "execution_count": 48,
   "id": "e23208a1-6dbd-443a-b688-41b87febc84b",
   "metadata": {},
   "outputs": [
    {
     "name": "stdout",
     "output_type": "stream",
     "text": [
      "[33, 45, 78, 21]\n"
     ]
    }
   ],
   "source": [
    "print(b)"
   ]
  },
  {
   "cell_type": "markdown",
   "id": "2fc70ac9-c73c-435b-9ffc-824ee8b12a36",
   "metadata": {},
   "source": [
    "1. Create a list of floating number inside the variable a\n",
    "2. By using the map function inside the map function we are using the round function and it will iterate each every element then it will give it as nearest integer\n",
    "3. Print the result "
   ]
  },
  {
   "cell_type": "markdown",
   "id": "5847b4f8-d43b-4cb4-9330-e129e5194bf0",
   "metadata": {},
   "source": [
    "# Reduce"
   ]
  },
  {
   "cell_type": "markdown",
   "id": "58f8e377-58d0-455e-9d4a-143f49f18589",
   "metadata": {},
   "source": [
    "1. What is the `reduce()` function in Python, and what module should you import to use it? Provide an example of its basic usage."
   ]
  },
  {
   "cell_type": "code",
   "execution_count": 109,
   "id": "e72f4b7f-2c5a-463c-b158-05c3222c74e4",
   "metadata": {},
   "outputs": [],
   "source": [
    "import functools\n",
    "from functools import reduce"
   ]
  },
  {
   "cell_type": "code",
   "execution_count": 58,
   "id": "2fcfbed0-2424-4f5a-9c34-8f8af496412b",
   "metadata": {},
   "outputs": [],
   "source": [
    "a = [1, 2, 3, 4, 5]"
   ]
  },
  {
   "cell_type": "code",
   "execution_count": 61,
   "id": "21349b7d-4949-4c0c-8af0-527e64b6d391",
   "metadata": {},
   "outputs": [],
   "source": [
    "b = reduce(lambda a, b: a + b, a)"
   ]
  },
  {
   "cell_type": "code",
   "execution_count": 62,
   "id": "223af601-6344-4dd7-8bb7-e5c4f173b15f",
   "metadata": {},
   "outputs": [
    {
     "name": "stdout",
     "output_type": "stream",
     "text": [
      "15\n"
     ]
    }
   ],
   "source": [
    "print(b)"
   ]
  },
  {
   "cell_type": "markdown",
   "id": "3f5fee47-a2f9-42a2-a0bc-5b1cf6f50eaf",
   "metadata": {},
   "source": [
    "1. The reduce function is the function in which if we want single result in the above problem statement\n",
    "2. The model we are importing is functool and from functool we are importing reduce function\n",
    "3. In the above example we want the sum of all the element from the list so we are using the reduce fuction it will take function and iterable just like the map function\n",
    "4. Print the result "
   ]
  },
  {
   "cell_type": "markdown",
   "id": "5b0ac927-a7bc-4dc5-904d-bfb34a35427b",
   "metadata": {},
   "source": [
    "2. Write a Python program that uses the `reduce()` function to find the product of all elements in a list."
   ]
  },
  {
   "cell_type": "code",
   "execution_count": 63,
   "id": "25945ef7-8b73-460b-939b-e2af68d3a6bf",
   "metadata": {},
   "outputs": [],
   "source": [
    "a = [1, 2, 3, 4, 5]"
   ]
  },
  {
   "cell_type": "code",
   "execution_count": 64,
   "id": "57360dce-854a-4104-b81c-e5b7290e1f82",
   "metadata": {},
   "outputs": [],
   "source": [
    "b = reduce(lambda a, b: a * b, a)"
   ]
  },
  {
   "cell_type": "code",
   "execution_count": 65,
   "id": "a8ff74ac-59a5-42f3-9d6e-8b6d5098fab0",
   "metadata": {},
   "outputs": [
    {
     "name": "stdout",
     "output_type": "stream",
     "text": [
      "120\n"
     ]
    }
   ],
   "source": [
    "print(b)"
   ]
  },
  {
   "cell_type": "markdown",
   "id": "2a730046-27e3-4778-8aa8-c6792c5ef4b8",
   "metadata": {},
   "source": [
    "1. Create a list of numbers inside the variable a\n",
    "2. By using the reduce function inside the reduce function we are using the lambda function in which they will multiply the element with each other and using the iterable a\n",
    "3. Print the result"
   ]
  },
  {
   "cell_type": "markdown",
   "id": "5d3af630-ca29-4b2d-870b-a4f276d02233",
   "metadata": {},
   "source": [
    "3. Create a Python program that uses `reduce()` to find the maximum element in a list of numbers."
   ]
  },
  {
   "cell_type": "code",
   "execution_count": 75,
   "id": "ddff4139-f029-4605-a200-dd50f01b53ab",
   "metadata": {},
   "outputs": [],
   "source": [
    "a = [1, 2, 3, 4, 5]"
   ]
  },
  {
   "cell_type": "code",
   "execution_count": 76,
   "id": "256d3429-1457-452e-ad27-f19647d8e070",
   "metadata": {},
   "outputs": [],
   "source": [
    "b = reduce(lambda a,b: a if a > b else b, a)"
   ]
  },
  {
   "cell_type": "code",
   "execution_count": 77,
   "id": "02e88f5a-8f11-46d0-9c61-2e6198110c55",
   "metadata": {},
   "outputs": [
    {
     "name": "stdout",
     "output_type": "stream",
     "text": [
      "5\n"
     ]
    }
   ],
   "source": [
    "print(b)"
   ]
  },
  {
   "cell_type": "markdown",
   "id": "834bab27-475e-4561-9fdc-6b35987b3b87",
   "metadata": {},
   "source": [
    "1. Create a list of numbers inside the variable a \n",
    "2. By using the reduce function inside the reduce function we are using lambda fucntion if the any number is greater than the another number it will store that number into the variable a after each itration in list of a\n",
    "3. Print the result"
   ]
  },
  {
   "cell_type": "markdown",
   "id": "540407ed-8d6a-4540-a681-8d683ed7fd96",
   "metadata": {},
   "source": [
    "4. How can you use the `reduce()` function to concatenate a list of strings into a single string?"
   ]
  },
  {
   "cell_type": "code",
   "execution_count": 85,
   "id": "b3c5fa74-3660-462e-ab82-b0e5662d044b",
   "metadata": {},
   "outputs": [],
   "source": [
    "a = 'Pyth'\n",
    "b = 'on'"
   ]
  },
  {
   "cell_type": "code",
   "execution_count": 88,
   "id": "187ad35b-d0e1-4fd7-8553-49b21a8ca711",
   "metadata": {},
   "outputs": [],
   "source": [
    "def concate(a, b):\n",
    "    return a + b"
   ]
  },
  {
   "cell_type": "code",
   "execution_count": 91,
   "id": "3cf12ec0-1d6a-4a4f-a8db-56eabe057fbd",
   "metadata": {},
   "outputs": [
    {
     "name": "stdout",
     "output_type": "stream",
     "text": [
      "Python\n"
     ]
    }
   ],
   "source": [
    "c = reduce(concate, b, a)\n",
    "print(c)"
   ]
  },
  {
   "cell_type": "markdown",
   "id": "c7783e12-09aa-46f5-aa8c-e61ee3053b08",
   "metadata": {},
   "source": [
    "1. Create a variable a and b inside the variable we are defining two strings\n",
    "2. We are creating a new fucntion which takes two arguments and return there addition\n",
    "3. By using the reduce function inside the reduce function we are defining concate function takes two arguments a and b\n",
    "4. Print the result "
   ]
  },
  {
   "cell_type": "markdown",
   "id": "8a3352fa-ae8b-440f-9576-df8388787d98",
   "metadata": {},
   "source": [
    "5. Write a Python program that calculates the factorial of a number using the `reduce()` function."
   ]
  },
  {
   "cell_type": "code",
   "execution_count": 107,
   "id": "6998f3d5-a44d-4c64-b39e-0437ec879a94",
   "metadata": {},
   "outputs": [],
   "source": [
    "a = 5"
   ]
  },
  {
   "cell_type": "code",
   "execution_count": 108,
   "id": "4c72b340-3f09-48d1-b743-96adeaf9e5fd",
   "metadata": {},
   "outputs": [],
   "source": [
    "b = reduce(lambda a,b : a * b, range(1, a+1))"
   ]
  },
  {
   "cell_type": "code",
   "execution_count": 109,
   "id": "12732c22-8cb0-489b-ab46-39c1cf685531",
   "metadata": {},
   "outputs": [
    {
     "name": "stdout",
     "output_type": "stream",
     "text": [
      "120\n"
     ]
    }
   ],
   "source": [
    "print(b)"
   ]
  },
  {
   "cell_type": "markdown",
   "id": "1c2f16f7-86a3-452e-8780-184933e3ab46",
   "metadata": {},
   "source": [
    "1. Create a variable a inside the variable a we are defining the number\n",
    "2. By using the reduce function inside the reduce function we are using lambda function using the range function 1 to a + 1\n",
    "3. Print the result"
   ]
  },
  {
   "cell_type": "markdown",
   "id": "4c9503b0-a792-425d-b749-438dc29d6b65",
   "metadata": {},
   "source": [
    "6. Create a Python program that uses `reduce()` to find the GCD (Greatest Common Divisor) of a list of numbers"
   ]
  },
  {
   "cell_type": "code",
   "execution_count": 60,
   "id": "00c97a9e-c87c-4873-9009-a27674166197",
   "metadata": {},
   "outputs": [],
   "source": [
    "import math\n",
    "a = [24, 54]"
   ]
  },
  {
   "cell_type": "code",
   "execution_count": 61,
   "id": "d908cb94-22ad-4bca-b55c-674ce66210e6",
   "metadata": {},
   "outputs": [],
   "source": [
    "b = reduce(math.gcd, a)"
   ]
  },
  {
   "cell_type": "code",
   "execution_count": 62,
   "id": "eb15164c-05cd-4bd2-84d1-55d99402a8fd",
   "metadata": {},
   "outputs": [
    {
     "name": "stdout",
     "output_type": "stream",
     "text": [
      "6\n"
     ]
    }
   ],
   "source": [
    "print(b)"
   ]
  },
  {
   "cell_type": "markdown",
   "id": "27c935c7-af8d-4a1f-bf52-4b22df6e5084",
   "metadata": {},
   "source": [
    "1. Import the math library\n",
    "2. By using the reduce function inside the reduce function we are using math.gcd methon and iterate through a\n",
    "3. It will give the gcd of the list of numbers\n",
    "4. print the result"
   ]
  },
  {
   "cell_type": "markdown",
   "id": "5b001662-d4f1-49b3-ab2f-b9dc3b3fddca",
   "metadata": {},
   "source": [
    "7. Write a Python program that uses the `reduce()` function to find the sum of the digits of a given number."
   ]
  },
  {
   "cell_type": "code",
   "execution_count": 134,
   "id": "fe92e42f-2675-42bc-b083-30d486174ff2",
   "metadata": {},
   "outputs": [
    {
     "name": "stdout",
     "output_type": "stream",
     "text": [
      "['8', '7']\n"
     ]
    }
   ],
   "source": [
    "a = 87\n",
    "b = str(a)\n",
    "c = list(b)\n"
   ]
  },
  {
   "cell_type": "code",
   "execution_count": 137,
   "id": "f4243b12-8b53-4892-883a-69be646bd6f8",
   "metadata": {},
   "outputs": [],
   "source": [
    "b = reduce(lambda a, b : int(a) + int(b), c)"
   ]
  },
  {
   "cell_type": "code",
   "execution_count": 138,
   "id": "2ecceaf9-3b23-46f1-98d7-c3bda9b2b038",
   "metadata": {},
   "outputs": [
    {
     "name": "stdout",
     "output_type": "stream",
     "text": [
      "15\n"
     ]
    }
   ],
   "source": [
    "print(b)"
   ]
  },
  {
   "cell_type": "markdown",
   "id": "5fb834e6-9b34-4dbb-9c04-65417be43f5f",
   "metadata": {},
   "source": [
    "1. Create a varaible a inside we are defining one integer\n",
    "2. First the interger will be converted into a string and that string will converted into a list\n",
    "3. By using reduce function inside the reduce function we are using lambda function all the elements in the list first it will be converted into an integer then it will get add \n",
    "4. Print the result "
   ]
  },
  {
   "cell_type": "markdown",
   "id": "32bb5de5-5500-4dc2-9d38-137c1c6cf021",
   "metadata": {},
   "source": [
    "# Filter"
   ]
  },
  {
   "cell_type": "markdown",
   "id": "a15a6ac0-4cd8-4858-ac69-de823f9b8e62",
   "metadata": {},
   "source": [
    "1. Explain the purpose of the `filter()` function in Python and provide an example of how it can be used to filter elements from an iterable."
   ]
  },
  {
   "cell_type": "code",
   "execution_count": 1,
   "id": "a29174c3-9f9f-4cc8-9969-85ec7581c117",
   "metadata": {},
   "outputs": [],
   "source": [
    "a = [1, 2, 3, 4, 5, 6, 7, 8, 9, 10]"
   ]
  },
  {
   "cell_type": "code",
   "execution_count": 6,
   "id": "eb7f63ad-542d-4916-884d-661ba20566f9",
   "metadata": {},
   "outputs": [],
   "source": [
    "def even(a):\n",
    "    return a % 2 == 0\n",
    "b = list(filter(even, a))"
   ]
  },
  {
   "cell_type": "code",
   "execution_count": 7,
   "id": "fa41b930-8bde-4d57-9102-0fe67e5289e7",
   "metadata": {},
   "outputs": [
    {
     "name": "stdout",
     "output_type": "stream",
     "text": [
      "[2, 4, 6, 8, 10]\n"
     ]
    }
   ],
   "source": [
    "print(b)"
   ]
  },
  {
   "cell_type": "markdown",
   "id": "23b51b8c-c1b2-4880-9044-ea3eadf637ff",
   "metadata": {},
   "source": [
    "1. The purpose of the filter function is to filter out the element which is required for the user\n",
    "2. In filter function just like map or reduce function it will take the function and iterable as the arguments\n",
    "3. In the given example we have created one function called even it will return the number only divisible by 2\n",
    "4. By using the filter function inside the filter we are defining even number and it will iterate all the number inside the variable a \n",
    "5. Print the result "
   ]
  },
  {
   "cell_type": "markdown",
   "id": "996d3879-c2ee-43ab-a1c7-9313aba6bb61",
   "metadata": {},
   "source": [
    "2. Write a Python program that uses the `filter()` function to select even numbers from a list of integers."
   ]
  },
  {
   "cell_type": "code",
   "execution_count": 8,
   "id": "043e8f29-97a7-4b48-a12d-63427f5431aa",
   "metadata": {},
   "outputs": [],
   "source": [
    "a = [1, 2, 3, 4, 5, 6, 7, 8, 9, 10]"
   ]
  },
  {
   "cell_type": "code",
   "execution_count": 9,
   "id": "6776a031-310c-4d61-9f71-637c3550673d",
   "metadata": {},
   "outputs": [],
   "source": [
    "def even(a):\n",
    "    return a % 2 == 0\n",
    "b = list(filter(even, a))"
   ]
  },
  {
   "cell_type": "code",
   "execution_count": 10,
   "id": "825ed72f-26ab-48dc-aa00-7820a973c5d3",
   "metadata": {},
   "outputs": [
    {
     "name": "stdout",
     "output_type": "stream",
     "text": [
      "[2, 4, 6, 8, 10]\n"
     ]
    }
   ],
   "source": [
    "print(b)"
   ]
  },
  {
   "cell_type": "markdown",
   "id": "8d1a14b3-eb11-45ac-9c6e-1f2afce4935c",
   "metadata": {},
   "source": [
    "1. In the given example we have created one function called even it will return the number only divisible by 2\n",
    "2. By using the filter function inside the filter we are defining even number and it will iterate all the number inside the variable a \n",
    "3. Print the result"
   ]
  },
  {
   "cell_type": "markdown",
   "id": "0cb18253-2956-44d6-87c1-64cc93dfd082",
   "metadata": {},
   "source": [
    "3. Create a Python program that uses the `filter()` function to select names that start with a specific letter from a list of strings."
   ]
  },
  {
   "cell_type": "code",
   "execution_count": 12,
   "id": "c8f2b52a-405e-4cbc-88b2-51c474265fa8",
   "metadata": {},
   "outputs": [],
   "source": [
    "a = ['python', 'pyspark', 'scala', 'java']"
   ]
  },
  {
   "cell_type": "code",
   "execution_count": 18,
   "id": "44f944cf-abe8-4037-b890-cd77e0372f3c",
   "metadata": {},
   "outputs": [],
   "source": [
    "def specific_word(word):\n",
    "    return word[0] == 'p'"
   ]
  },
  {
   "cell_type": "code",
   "execution_count": 19,
   "id": "17dc9724-5b19-4dd4-b697-4d20fd00fd4a",
   "metadata": {},
   "outputs": [
    {
     "name": "stdout",
     "output_type": "stream",
     "text": [
      "['python', 'pyspark']\n"
     ]
    }
   ],
   "source": [
    "b = list(filter(specific_word, a))\n",
    "print(b)"
   ]
  },
  {
   "cell_type": "markdown",
   "id": "16f8467e-3aad-4efe-b48a-f14f34dc2a55",
   "metadata": {},
   "source": [
    "1. Create a list of names inside the variable a\n",
    "2. Create a function called specific_word which takes one argument and it will return specific word start with p\n",
    "3. By using the filter function it will filter out the element store only those element which is starting with p\n",
    "4. print the result"
   ]
  },
  {
   "cell_type": "markdown",
   "id": "3bb63a71-7514-4b95-b127-db05bb6cc1c3",
   "metadata": {},
   "source": [
    "4. Write a Python program that uses the `filter()` function to select prime numbers from a list of integers."
   ]
  },
  {
   "cell_type": "code",
   "execution_count": 2,
   "id": "5f274249-90d2-4d37-a9c7-d8002d82bdc5",
   "metadata": {},
   "outputs": [],
   "source": [
    "a = [1, 2, 3, 4, 5, 6]"
   ]
  },
  {
   "cell_type": "code",
   "execution_count": 41,
   "id": "99b3b69f-f0e5-4e1a-874d-1f760aee8d25",
   "metadata": {},
   "outputs": [],
   "source": [
    "def is_prime(num):\n",
    "    prime = True\n",
    "    for i in range(2, num):\n",
    "        if num % i == 0:\n",
    "            return False\n",
    "    if prime:\n",
    "        return num\n"
   ]
  },
  {
   "cell_type": "code",
   "execution_count": 39,
   "id": "e80407db-3005-4aa4-8f9e-96decf15b64c",
   "metadata": {},
   "outputs": [],
   "source": [
    "b = list(filter(is_prime, a))"
   ]
  },
  {
   "cell_type": "code",
   "execution_count": 40,
   "id": "3e12a60f-1039-47d9-83da-23bc1ef47ea1",
   "metadata": {},
   "outputs": [
    {
     "name": "stdout",
     "output_type": "stream",
     "text": [
      "[1, 2, 3, 5]\n"
     ]
    }
   ],
   "source": [
    "print(b)"
   ]
  },
  {
   "cell_type": "markdown",
   "id": "eef4611b-29cd-4cba-afa2-8f9da99473ca",
   "metadata": {},
   "source": [
    "1. Create a list of numbers inside the variable a\n",
    "2. Create a function called is_prime inside the fuction we are using the for loop it will iterate all the number from 2 to num \n",
    "3. If any number is divisible by any number then it will return false and if the number is prime then it will return that number\n",
    "4. By using the filter function inside the function we have given a list of number it will iterate and by using is_prime function we will get the prime numbers list\n",
    "5. Print the result "
   ]
  },
  {
   "cell_type": "markdown",
   "id": "7c93e720-5f62-478a-8282-0611b68afb51",
   "metadata": {},
   "source": [
    "5. How can you use the `filter()` function to remove None values from a list in Python?"
   ]
  },
  {
   "cell_type": "code",
   "execution_count": 81,
   "id": "3de6c689-7d96-415a-b45d-462c349922f8",
   "metadata": {},
   "outputs": [],
   "source": [
    "a = [None, 1, 2, 3, 4]"
   ]
  },
  {
   "cell_type": "code",
   "execution_count": 97,
   "id": "ed346688-3883-423e-8648-fc8ebe84b008",
   "metadata": {},
   "outputs": [],
   "source": [
    "def remove_none(num):\n",
    "    if num != None:\n",
    "        return num"
   ]
  },
  {
   "cell_type": "code",
   "execution_count": 98,
   "id": "1819610a-03c8-40a8-9188-a805b65a91e5",
   "metadata": {},
   "outputs": [],
   "source": [
    "b = list(filter(remove_none, a))"
   ]
  },
  {
   "cell_type": "code",
   "execution_count": 99,
   "id": "764c1379-a922-4ecf-8bac-b3f0ad9a6c89",
   "metadata": {},
   "outputs": [
    {
     "name": "stdout",
     "output_type": "stream",
     "text": [
      "[1, 2, 3, 4]\n"
     ]
    }
   ],
   "source": [
    "print(b)"
   ]
  },
  {
   "cell_type": "markdown",
   "id": "19dd4678-fc11-4271-b064-450d0da39ce7",
   "metadata": {},
   "source": [
    "1. Create a list of numbers inside the variable a \n",
    "2. Create a function called remove_none which takes the one argument if the number is not equal to none value then it will return \n",
    "3. By using the filter function it will check if the number is none then it will remove that none and then stor the result\n",
    "4. Print the result "
   ]
  },
  {
   "cell_type": "markdown",
   "id": "e2cdaf26-80c2-459d-97be-6111e62dbae0",
   "metadata": {},
   "source": [
    "6. Create a Python program that uses `filter()` to select words longer than a certain length from a list of strings."
   ]
  },
  {
   "cell_type": "code",
   "execution_count": 100,
   "id": "5fca759f-884e-4689-9597-9a5aa6a7c7fc",
   "metadata": {},
   "outputs": [],
   "source": [
    "a = ['python', 'pyspark', 'scala', 'java']"
   ]
  },
  {
   "cell_type": "code",
   "execution_count": 101,
   "id": "ddf68837-f8ec-4e62-a4e7-2fb8c55341b1",
   "metadata": {},
   "outputs": [],
   "source": [
    "def long_word(word):\n",
    "    if len(word) > 4:\n",
    "        return word"
   ]
  },
  {
   "cell_type": "code",
   "execution_count": 102,
   "id": "539c89bd-2d47-48bf-82da-6542deb9509d",
   "metadata": {},
   "outputs": [],
   "source": [
    "b = list(filter(long_word, a))"
   ]
  },
  {
   "cell_type": "code",
   "execution_count": 103,
   "id": "f2eef7f9-f0aa-468d-89dc-41226b7adcee",
   "metadata": {},
   "outputs": [
    {
     "name": "stdout",
     "output_type": "stream",
     "text": [
      "['python', 'pyspark', 'scala']\n"
     ]
    }
   ],
   "source": [
    "print(b)"
   ]
  },
  {
   "cell_type": "markdown",
   "id": "4a0a4917-43e7-414c-aa0c-f80929c83a2b",
   "metadata": {},
   "source": [
    "1. Create a list of names inside the variable a \n",
    "2. Create a function called long word which takes one argument inside the function if the length of words is more than 4 then only it will return that word\n",
    "3. By using the filter function it will filter out the word in which length is more than 4\n",
    "4. Print thr result "
   ]
  },
  {
   "cell_type": "markdown",
   "id": "c385c0cb-ab03-4ece-adb1-fe5fc6a450f1",
   "metadata": {},
   "source": [
    "7. Write a Python program that uses the `filter()` function to select elements greater than a specified threshold from a list of values."
   ]
  },
  {
   "cell_type": "code",
   "execution_count": 104,
   "id": "1046d827-034d-44a9-b483-f820b1270099",
   "metadata": {},
   "outputs": [],
   "source": [
    "a = [12, 30, 10, 40, 25]"
   ]
  },
  {
   "cell_type": "code",
   "execution_count": 105,
   "id": "ac30a448-0c81-470f-9108-f9edaa79ab6a",
   "metadata": {},
   "outputs": [],
   "source": [
    "def highest_numbers(num):\n",
    "    if num > 20:\n",
    "        return num"
   ]
  },
  {
   "cell_type": "code",
   "execution_count": 106,
   "id": "dcd3da24-47cc-49db-92f1-6c9acc4cfa57",
   "metadata": {},
   "outputs": [],
   "source": [
    "b = list(filter(highest_numbers, a))"
   ]
  },
  {
   "cell_type": "code",
   "execution_count": 107,
   "id": "41fb177f-6d7a-482d-8b59-4d76aaa6c891",
   "metadata": {},
   "outputs": [
    {
     "name": "stdout",
     "output_type": "stream",
     "text": [
      "[30, 40, 25]\n"
     ]
    }
   ],
   "source": [
    "print(b)"
   ]
  },
  {
   "cell_type": "markdown",
   "id": "a2467c64-26d1-4d98-9d44-09e22cf3cdce",
   "metadata": {},
   "source": [
    "1. Create a list of numbers inside the variable a \n",
    "2. Create function called highest_numbers which take one arguments inside the fuction if the number is greater than 20 only that number will be return\n",
    "3. By using the filter function it will filter out the number which is greater than 20\n",
    "4. Print the result "
   ]
  },
  {
   "cell_type": "markdown",
   "id": "15a10b90-9084-48ab-a84b-614eeb6564be",
   "metadata": {},
   "source": [
    "# Recurssion"
   ]
  },
  {
   "cell_type": "markdown",
   "id": "c5933a56-d6a8-49e8-998e-628815b7c89f",
   "metadata": {},
   "source": [
    "1. Explain the concept of recursion in Python. How does it differ from iteration?"
   ]
  },
  {
   "cell_type": "code",
   "execution_count": 3,
   "id": "253d15d1-8601-46b5-ba9f-c2be7b064c36",
   "metadata": {},
   "outputs": [],
   "source": [
    "a = [1, 2, 3, 4, 5]"
   ]
  },
  {
   "cell_type": "code",
   "execution_count": 4,
   "id": "b781e46a-fed6-4d69-bc2b-a220e3ac5a4d",
   "metadata": {},
   "outputs": [],
   "source": [
    "def add(a):\n",
    "    if len(a) == 0:\n",
    "        return 0\n",
    "    else:\n",
    "        return a[0] + add(a[1::])"
   ]
  },
  {
   "cell_type": "code",
   "execution_count": 5,
   "id": "efe91210-1f53-4faf-9f97-49191eed7796",
   "metadata": {},
   "outputs": [
    {
     "data": {
      "text/plain": [
       "15"
      ]
     },
     "execution_count": 5,
     "metadata": {},
     "output_type": "execute_result"
    }
   ],
   "source": [
    "add(a)"
   ]
  },
  {
   "cell_type": "markdown",
   "id": "1a85e189-817b-4e8d-b904-77a94d2d6ab5",
   "metadata": {},
   "source": [
    "1. The concept of the recursion is that the fucntion calling itself again and again until it statisies the base condition\n",
    "2. Recursion is a technique in which the function calls itself in its body to solve the problem, typically breaking into smaller and more manageable sub-problems. In contrast, Iteration is a technique that repetitively executes a code block until the condition is unmet"
   ]
  },
  {
   "cell_type": "markdown",
   "id": "7ffa834b-7c62-4846-982e-76792549d14d",
   "metadata": {},
   "source": [
    "2. Write a Python program to calculate the factorial of a number using recursion."
   ]
  },
  {
   "cell_type": "code",
   "execution_count": 7,
   "id": "1318c30d-5c64-4d2a-99e0-9d45edc4a782",
   "metadata": {},
   "outputs": [],
   "source": [
    "def fact(num):\n",
    "    if num == 0:\n",
    "        return 1\n",
    "    else:\n",
    "        return num * fact(num -1)"
   ]
  },
  {
   "cell_type": "code",
   "execution_count": 8,
   "id": "d97698fc-c410-4d90-a8a3-816b8b61bd82",
   "metadata": {},
   "outputs": [
    {
     "data": {
      "text/plain": [
       "120"
      ]
     },
     "execution_count": 8,
     "metadata": {},
     "output_type": "execute_result"
    }
   ],
   "source": [
    "fact(5)"
   ]
  },
  {
   "cell_type": "markdown",
   "id": "4d98bd1f-c915-4463-af17-fe97aa81a594",
   "metadata": {},
   "source": [
    "1. Create a function called fact which takes the one argument \n",
    "2. Inside the fcat function if the num = 0 the factorial of 0 is 1 then it will return 1\n",
    "3. In the else condition we will return that num which we are mention it will multiply with the function of fact(num-1) which is an recursion method we are calling a function inside the function\n",
    "4. Print the result "
   ]
  },
  {
   "cell_type": "markdown",
   "id": "16bff835-fd6c-4c2c-a832-accc7d281c6d",
   "metadata": {},
   "source": [
    "3. Create a recursive Python function to find the nth Fibonacci number."
   ]
  },
  {
   "cell_type": "code",
   "execution_count": 29,
   "id": "e82aa338-707d-4add-a8eb-28183e5b1d29",
   "metadata": {},
   "outputs": [],
   "source": [
    "def fibo(n):\n",
    "    if n <= 1:\n",
    "        return n\n",
    "    else:\n",
    "        return fibo(n-2) + fibo(n-1)"
   ]
  },
  {
   "cell_type": "code",
   "execution_count": 31,
   "id": "97743382-6aa3-403d-9955-676c4c2e138d",
   "metadata": {},
   "outputs": [
    {
     "data": {
      "text/plain": [
       "2"
      ]
     },
     "execution_count": 31,
     "metadata": {},
     "output_type": "execute_result"
    }
   ],
   "source": [
    "fibo(3)"
   ]
  },
  {
   "cell_type": "markdown",
   "id": "acd7d210-ebf5-44b1-ae9c-5e5f3bacadde",
   "metadata": {},
   "source": [
    "1. Create a function fibo which takes one argument\n",
    "2. Inside the function fibo if the number is less or equal to 1 return that number n\n",
    "3. Else we call the function fibo(n-2) + fibo(n-1) these function will repeat itself until and unless it will statisfies the base condition"
   ]
  },
  {
   "cell_type": "markdown",
   "id": "a9147a1a-bf89-4392-b177-24fc5563e64e",
   "metadata": {},
   "source": [
    "4. Write a recursive Python function to calculate the sum of all elements in a list."
   ]
  },
  {
   "cell_type": "code",
   "execution_count": 32,
   "id": "03c3aeb8-a9d8-424e-bf4c-49814433da06",
   "metadata": {},
   "outputs": [],
   "source": [
    "a = [1, 2, 3, 4, 5]"
   ]
  },
  {
   "cell_type": "code",
   "execution_count": 33,
   "id": "ad4eff11-06a1-49e8-afc7-231021cc67fd",
   "metadata": {},
   "outputs": [],
   "source": [
    "def add(a):\n",
    "    if len(a) == 0:\n",
    "        return 0\n",
    "    else:\n",
    "        return a[0] + add(a[1::])"
   ]
  },
  {
   "cell_type": "code",
   "execution_count": 34,
   "id": "4418669d-8d76-45e6-b015-304030be98dd",
   "metadata": {},
   "outputs": [
    {
     "data": {
      "text/plain": [
       "15"
      ]
     },
     "execution_count": 34,
     "metadata": {},
     "output_type": "execute_result"
    }
   ],
   "source": [
    "add(a)"
   ]
  },
  {
   "cell_type": "markdown",
   "id": "9a7b4390-5f1a-43c0-ac2f-fe16a5f0fd5a",
   "metadata": {},
   "source": [
    "1. 1. Create a function add which takes one argument\n",
    "2. Inside the function add if len(a) == 0 then it would return 0\n",
    "3. Else we call the function a[0] + add(a[1::] these function will repeat itself until and unless it will statisfies the base condition"
   ]
  },
  {
   "cell_type": "markdown",
   "id": "1f490d5e-0929-456d-9efb-54a1b5ae360a",
   "metadata": {},
   "source": [
    "5. How can you prevent a recursive function from running indefinitely, causing a stack overflow error?"
   ]
  },
  {
   "cell_type": "code",
   "execution_count": 35,
   "id": "4aa2900e-e0e8-4737-8483-10ca91f10064",
   "metadata": {},
   "outputs": [
    {
     "data": {
      "text/plain": [
       "15"
      ]
     },
     "execution_count": 35,
     "metadata": {},
     "output_type": "execute_result"
    }
   ],
   "source": [
    "a = [1, 2, 3, 4, 5]\n",
    "\n",
    "def add(a):\n",
    "    if len(a) == 0:\n",
    "        return 0\n",
    "    else:\n",
    "        return a[0] + add(a[1::])\n",
    "\n",
    "add(a)"
   ]
  },
  {
   "cell_type": "markdown",
   "id": "bc0a00ce-2186-4aba-836f-919385296115",
   "metadata": {},
   "source": [
    "1. A base case is essential for preventing infinite recursion, which would fill up the stack indefinitely.\n",
    "2. We should always check for a base case before making any recursive calls, and make sure that our recursive calls are getting closer to the base case."
   ]
  },
  {
   "cell_type": "markdown",
   "id": "1c05c262-c45f-4b4b-b520-1bfac129118f",
   "metadata": {},
   "source": [
    "6. Create a recursive Python function to find the greatest common divisor (GCD) of two numbers using the Euclidean algorithm."
   ]
  },
  {
   "cell_type": "code",
   "execution_count": 37,
   "id": "b266e56e-654b-4a79-8b49-c8a10d2503f7",
   "metadata": {},
   "outputs": [],
   "source": [
    "def gcd(a, b):\n",
    "    if (a == 0):\n",
    "        return b\n",
    "    if (b == 0):\n",
    "        return a\n",
    "    if (a == b):\n",
    "        return a\n",
    "    if (a > b):\n",
    "        return gcd(a-b, b)\n",
    "    return gcd(a, b-a)"
   ]
  },
  {
   "cell_type": "code",
   "execution_count": 38,
   "id": "1974f3fd-722f-4740-ad34-ca4d43006fc2",
   "metadata": {},
   "outputs": [
    {
     "data": {
      "text/plain": [
       "6"
      ]
     },
     "execution_count": 38,
     "metadata": {},
     "output_type": "execute_result"
    }
   ],
   "source": [
    "gcd(24, 54)"
   ]
  },
  {
   "cell_type": "markdown",
   "id": "4528dc70-924a-40d5-930e-2f57382958b1",
   "metadata": {},
   "source": [
    "1. Creating a function called gcd which takes the two input\n",
    "2. By using euclidean algorithm and recurssion method we have findout the gcd of two numbers\n",
    "3. By using conditional statement if the two numbers have gcd using euclidean method than it will print the result\n",
    "4. Otherwise it will print not found"
   ]
  },
  {
   "cell_type": "markdown",
   "id": "786ba1f9-2b1c-4593-a476-e3ca24a57437",
   "metadata": {},
   "source": [
    "7. Write a recursive Python function to reverse a string."
   ]
  },
  {
   "cell_type": "code",
   "execution_count": 9,
   "id": "79830cd2-c47c-4397-89da-ea7b45e11d9a",
   "metadata": {},
   "outputs": [],
   "source": [
    "def reverse_string(a):\n",
    "    if len(a) == 0:\n",
    "        return a\n",
    "    else:\n",
    "        return reverse_string(a[1::]) + a[0]"
   ]
  },
  {
   "cell_type": "code",
   "execution_count": 10,
   "id": "b43bd026-7930-4ca3-80f5-c897a4803755",
   "metadata": {},
   "outputs": [
    {
     "data": {
      "text/plain": [
       "'nohtyp'"
      ]
     },
     "execution_count": 10,
     "metadata": {},
     "output_type": "execute_result"
    }
   ],
   "source": [
    "reverse_string('python')"
   ]
  },
  {
   "cell_type": "markdown",
   "id": "2fa9dd22-1032-435d-8132-bfe6596bb853",
   "metadata": {},
   "source": [
    "1. Create a function called reverse string which takes one argument\n",
    "2. If normal string it would return reverse string else it would called that function again"
   ]
  },
  {
   "cell_type": "markdown",
   "id": "83b46826-18f7-475b-aef4-882336cf2dfa",
   "metadata": {},
   "source": [
    "8. Create a recursive Python function to calculate the power of a number (x^n)"
   ]
  },
  {
   "cell_type": "code",
   "execution_count": 6,
   "id": "4236cb05-5732-4e29-83ec-ed848fd945e3",
   "metadata": {},
   "outputs": [],
   "source": [
    "def power(x, n):\n",
    "    if n == 0:\n",
    "        return 1\n",
    "    else:\n",
    "        return x ** power(x, n -1)"
   ]
  },
  {
   "cell_type": "code",
   "execution_count": 8,
   "id": "09bce7fa-19e5-4aae-a626-fc2474c10ac0",
   "metadata": {},
   "outputs": [
    {
     "data": {
      "text/plain": [
       "4"
      ]
     },
     "execution_count": 8,
     "metadata": {},
     "output_type": "execute_result"
    }
   ],
   "source": [
    "power(2, 2)"
   ]
  },
  {
   "cell_type": "markdown",
   "id": "5257762a-4bf8-4e42-9b23-e2d19e06ebad",
   "metadata": {},
   "source": [
    "1. Create a function called power which takes two arguments\n",
    "2. Inside the function n == 0 then return 1 \n",
    "3. By using the recursion method else return the power of x"
   ]
  },
  {
   "cell_type": "markdown",
   "id": "5d8de137-45f3-4980-9f4c-e4feba981594",
   "metadata": {},
   "source": [
    "9. Write a recursive Python function to find all permutations of a given string."
   ]
  },
  {
   "cell_type": "code",
   "execution_count": 1,
   "id": "68dcc00f-0545-4d49-96c6-a13e72ada5fa",
   "metadata": {},
   "outputs": [
    {
     "name": "stdout",
     "output_type": "stream",
     "text": [
      "['abc', 'acb', 'bac', 'bca', 'cab', 'cba']\n"
     ]
    }
   ],
   "source": [
    "def find_permutations(s):\n",
    "    if len(s) == 1:\n",
    "        return [s]\n",
    "    else:\n",
    "        perms = []\n",
    "        for i, c in enumerate(s):\n",
    "            for perm in find_permutations(s[:i] + s[i+1:]):\n",
    "                perms.append(c + perm)\n",
    "        return perms\n",
    "s = 'abc'\n",
    "print(find_permutations(s))"
   ]
  },
  {
   "cell_type": "markdown",
   "id": "c136e3cb-71ec-4f66-bfc9-c9338f6b70d1",
   "metadata": {},
   "source": [
    "1. If the length of the string is 1, return a list containing the string Otherwise, for each character in the string.\n",
    "2. Fix the current character and recursively find all permutations of the remaining characters\n",
    "3. Add the current character to the beginning of each permutation\n",
    "4. Append the permutations to a list and return the list"
   ]
  },
  {
   "cell_type": "markdown",
   "id": "e40e2bae-fce1-42ab-bee4-e6991a7388e1",
   "metadata": {},
   "source": [
    "10. Write a recursive Python function to check if a string is a palindrome."
   ]
  },
  {
   "cell_type": "code",
   "execution_count": 3,
   "id": "ee6416f3-9f5b-43ad-87d4-e0929a6c065a",
   "metadata": {},
   "outputs": [
    {
     "name": "stdin",
     "output_type": "stream",
     "text": [
      "Enter string: rotator\n"
     ]
    },
    {
     "name": "stdout",
     "output_type": "stream",
     "text": [
      "Given String is a palindrome\n"
     ]
    }
   ],
   "source": [
    "def is_palindrome(s):\n",
    "    if len(s) < 1: \n",
    "        return True\n",
    "    else:\n",
    "        if s[0] == s[-1]: \n",
    "            return is_palindrome(s[1:-1]) \n",
    "        else: \n",
    "            return False\n",
    "a=str(input(\"Enter string:\"))\n",
    "if(is_palindrome(a)==True): \n",
    "    print(\"Given String is a palindrome\")\n",
    "else:\n",
    "    print(\"Given String isn't a palindrome\")"
   ]
  },
  {
   "cell_type": "markdown",
   "id": "c0a33c80-9baa-4dd7-bd55-d2c028ed1b35",
   "metadata": {},
   "source": [
    "1. Create a function is_palidrome which takes one argument\n",
    "2. If the len(string) < 1 it will true else it will check that if the normal string and the reverse string is equal to each other or not by using the recursion method\n",
    "3. Then by taking the user input if the is_palidrome is true then it will print the given string is palindrome other wise it is not an palindrome"
   ]
  },
  {
   "cell_type": "markdown",
   "id": "b9aa3ff1-502c-489b-abe0-06ae4fb1da77",
   "metadata": {},
   "source": [
    "11. Create a recursive Python function to generate all possible combinations of a list of elements."
   ]
  },
  {
   "cell_type": "code",
   "execution_count": 7,
   "id": "0cd381a3-a8e8-4ff6-b863-11fdd764b96b",
   "metadata": {},
   "outputs": [
    {
     "name": "stdout",
     "output_type": "stream",
     "text": [
      "[[], [55], [46], [55, 46], [47], [55, 47], [46, 47], [55, 46, 47], [89], [55, 89], [46, 89], [55, 46, 89], [47, 89], [55, 47, 89], [46, 47, 89], [55, 46, 47, 89], [76], [55, 76], [46, 76], [55, 46, 76], [47, 76], [55, 47, 76], [46, 47, 76], [55, 46, 47, 76], [89, 76], [55, 89, 76], [46, 89, 76], [55, 46, 89, 76], [47, 89, 76], [55, 47, 89, 76], [46, 47, 89, 76], [55, 46, 47, 89, 76]]\n"
     ]
    }
   ],
   "source": [
    "def generate_combinations_recursive(nums):\n",
    "    result = []\n",
    "    if not nums:\n",
    "        return [[]]\n",
    "    for i in generate_combinations_recursive(nums[1:]):\n",
    "        result.append(i)\n",
    "        result.append([nums[0]] + i)\n",
    "    return result\n",
    "test_list = [55, 46, 47, 89, 76]\n",
    "print(generate_combinations_recursive(test_list))"
   ]
  },
  {
   "cell_type": "markdown",
   "id": "da60c7cd-0015-4c4e-86c3-cb36b137f9a9",
   "metadata": {},
   "source": [
    "1. Create a functionby  called generate_combination_recursive which takes one argument\n",
    "2. Inside the function we are creating a empty list in the variable called result\n",
    "3. If not num then it will return empty string other wise using for loop in the function it will append the all possible combination of the element inside the list\n",
    "4. Print result"
   ]
  },
  {
   "cell_type": "markdown",
   "id": "662fce74-c0e1-4f8e-8767-265759d82e83",
   "metadata": {},
   "source": [
    "# Basic Function"
   ]
  },
  {
   "cell_type": "markdown",
   "id": "b0aae248-05fd-4e27-9b94-4a582a5f6c0c",
   "metadata": {},
   "source": [
    "1. What is a function in Python, and why is it used?"
   ]
  },
  {
   "cell_type": "markdown",
   "id": "7b4051c6-a117-46a9-a6f0-08b2d4eb978c",
   "metadata": {},
   "source": [
    "A function is a block of code which only runs when it is called. You can pass data, known as parameters, into a function. A function can return data as a result.Also the function allow us to run the same piece of code multiple time. Also the function breaks the programme into the smaller components.Th function can also be shared with the other programmers "
   ]
  },
  {
   "cell_type": "markdown",
   "id": "efbc265a-6911-4650-9b61-8adf043f12f5",
   "metadata": {},
   "source": [
    "2. How do you define a function in Python? Provide an example"
   ]
  },
  {
   "cell_type": "code",
   "execution_count": 8,
   "id": "0bbc006d-3aa7-4209-8514-794850843e4f",
   "metadata": {},
   "outputs": [],
   "source": [
    "def my_function():\n",
    "    print('My first Function')"
   ]
  },
  {
   "cell_type": "code",
   "execution_count": 9,
   "id": "f8efb74c-5c33-4074-b382-aa915522717e",
   "metadata": {},
   "outputs": [
    {
     "name": "stdout",
     "output_type": "stream",
     "text": [
      "My first Function\n"
     ]
    }
   ],
   "source": [
    "my_function()"
   ]
  },
  {
   "cell_type": "markdown",
   "id": "f33f7af9-75d2-49ad-a445-4bf200a95bf1",
   "metadata": {},
   "source": [
    "1. To define a function first we have to write the def keyword\n",
    "2. After writing a def keyword write the function name anything you want and after that paranthesis and semicolon\n",
    "3. In python fuction cannot be empty so an example i have write the print statement as My first function\n",
    "4. Then call the function"
   ]
  },
  {
   "cell_type": "markdown",
   "id": "d120aa93-9a22-4310-8783-1de8c0bb56c0",
   "metadata": {},
   "source": [
    "3. Explain the difference between a function definition and a function call."
   ]
  },
  {
   "cell_type": "markdown",
   "id": "cf4ed310-83bb-48bf-a12d-5ee4a48ef776",
   "metadata": {},
   "source": [
    "The difference between calling a function and definig a function is that when we define a function we are creating a name of the function and inside that what fuction will when we call it. It means that it will only create the function but it will not run and also it will not give any output. When we call the function it will run all the code inside the function at the time of defining the function and also it gives us the output"
   ]
  },
  {
   "cell_type": "markdown",
   "id": "1ee32ede-3ec8-4eee-9115-e1a5c08fb8f7",
   "metadata": {},
   "source": [
    "4. Write a Python program that defines a function to calculate the sum of two numbers and then calls the function."
   ]
  },
  {
   "cell_type": "code",
   "execution_count": 2,
   "id": "28792161-4649-4728-abf2-47afaf829a2e",
   "metadata": {},
   "outputs": [],
   "source": [
    "def sum_two_numbers(a, b):\n",
    "    print(a + b)"
   ]
  },
  {
   "cell_type": "code",
   "execution_count": 3,
   "id": "1fe36f3c-ff37-4fdc-bdf0-dca9ae7fbe10",
   "metadata": {},
   "outputs": [
    {
     "name": "stdout",
     "output_type": "stream",
     "text": [
      "20\n"
     ]
    }
   ],
   "source": [
    "sum_two_numbers(10, 10)"
   ]
  },
  {
   "cell_type": "markdown",
   "id": "1db3df29-4a1b-4d13-8792-8b524d35c501",
   "metadata": {},
   "source": [
    "1. Define a function called sum_two_numbers which takes two arguments \n",
    "2. Inside the function we are printing the addition of two numbers\n",
    "3. Then we call the function sum_two_number inside those two arguments we have given numbers as 10 and 10 it will run that function and give the result"
   ]
  },
  {
   "cell_type": "markdown",
   "id": "8c2a7c2e-a3d0-4d19-acdc-2ff9b0fb402e",
   "metadata": {},
   "source": [
    "5. What is a function signature, and what information does it typically include?"
   ]
  },
  {
   "cell_type": "markdown",
   "id": "999d50c3-4473-4d29-af2e-248ea1fe2044",
   "metadata": {},
   "source": [
    "Python callables have a signature: the interface which describes what arguments are accepted and (optionally) what kind of value is returned. The function func (above) has the signature (a, b, c) . We know that it requires three arguments, one for a , b and c . These ( a , b and c ) are called parameters.\n"
   ]
  },
  {
   "cell_type": "markdown",
   "id": "38a8ed9b-d1fb-41f8-a883-5c8f908bbcf3",
   "metadata": {},
   "source": [
    "6. Create a Python function that takes two arguments and returns their product."
   ]
  },
  {
   "cell_type": "code",
   "execution_count": 4,
   "id": "f16f4b09-c77f-4d16-bb23-1cdfe0f3fe55",
   "metadata": {},
   "outputs": [],
   "source": [
    "def product_two_numbers(a, b):\n",
    "    print(a * b)"
   ]
  },
  {
   "cell_type": "code",
   "execution_count": 5,
   "id": "ae054b98-af0b-4709-8732-507ab32f504e",
   "metadata": {},
   "outputs": [
    {
     "name": "stdout",
     "output_type": "stream",
     "text": [
      "100\n"
     ]
    }
   ],
   "source": [
    "product_two_numbers(10, 10)"
   ]
  },
  {
   "cell_type": "markdown",
   "id": "6dc096c8-aa44-4b22-b3b7-e024aee1a309",
   "metadata": {},
   "source": [
    "1. Define a function called sum_two_numbers which takes two arguments \n",
    "2. Inside the function we are printing the product of two numbers\n",
    "3. Then we call the function product_two_numbers inside those two arguments we have given numbers as 10 and 10 it will run that function and give the result"
   ]
  },
  {
   "cell_type": "markdown",
   "id": "e568843a-8295-4787-8970-79300344ea24",
   "metadata": {},
   "source": [
    "# Function Parameters and Arguments:"
   ]
  },
  {
   "cell_type": "markdown",
   "id": "a027f002-fac5-4702-bc01-bcb73d88a9d2",
   "metadata": {},
   "source": [
    "1. Explain the concepts of formal parameters and actual arguments in Python functions."
   ]
  },
  {
   "cell_type": "markdown",
   "id": "0f7859e4-2aa4-46d8-b855-7e080f3be4f5",
   "metadata": {},
   "source": [
    "The parameters, which receive the values sent from the function call, are called formal arguments. Actual arguments: The parameters which we use in the function call or the parameters which we use to send the values/data during the function call are called actual arguments.\n",
    "There are four types of Actual arguments\n",
    "1. Positional Argument\n",
    "2. Keyword Argument\n",
    "3. Variable length Argument\n",
    "4. Default Argument "
   ]
  },
  {
   "cell_type": "markdown",
   "id": "e7ba2fa0-ac5f-42d3-8912-f21251ae0e20",
   "metadata": {},
   "source": [
    "2. Write a Python program that defines a function with default argument values."
   ]
  },
  {
   "cell_type": "code",
   "execution_count": 10,
   "id": "5461bf5f-c7a5-44f0-a752-d0066bf69dd6",
   "metadata": {},
   "outputs": [],
   "source": [
    "def my_fun(a = 5, b = 6):\n",
    "    return a, b"
   ]
  },
  {
   "cell_type": "code",
   "execution_count": 12,
   "id": "ad794378-2824-403b-bc2e-53d5adcc0e94",
   "metadata": {},
   "outputs": [
    {
     "data": {
      "text/plain": [
       "(5, 6)"
      ]
     },
     "execution_count": 12,
     "metadata": {},
     "output_type": "execute_result"
    }
   ],
   "source": [
    "my_fun()"
   ]
  },
  {
   "cell_type": "markdown",
   "id": "18e007f2-7b07-4a3d-ab7b-acb2f20200f6",
   "metadata": {},
   "source": [
    "1. Define a function called my_fun which are having the two default arguments a = 5 and b = 6\n",
    "2. Call the function which will return both the arguments a and b"
   ]
  },
  {
   "cell_type": "markdown",
   "id": "84904258-487a-4b66-a739-df26d294e8b9",
   "metadata": {},
   "source": [
    "3. How do you use keyword arguments in Python function calls? Provide an example."
   ]
  },
  {
   "cell_type": "code",
   "execution_count": 13,
   "id": "509625c4-c200-4b65-8b5c-324da5f4d8db",
   "metadata": {},
   "outputs": [],
   "source": [
    "def my_fun(a, b):\n",
    "    return a, b"
   ]
  },
  {
   "cell_type": "code",
   "execution_count": 15,
   "id": "85e0450c-8dc8-45ef-8e07-28b8ec7e3304",
   "metadata": {},
   "outputs": [
    {
     "data": {
      "text/plain": [
       "(6, 8)"
      ]
     },
     "execution_count": 15,
     "metadata": {},
     "output_type": "execute_result"
    }
   ],
   "source": [
    "my_fun(a = 6,b = 8)"
   ]
  },
  {
   "cell_type": "markdown",
   "id": "16bc3cee-a4ab-46f2-9044-aff6116aef98",
   "metadata": {},
   "source": [
    "1. Define a function call my_fun which takes two arguments and return the arguments a and b\n",
    "2. When we calling the function by using the positional arguments that a = 6 and b = 8\n",
    "3. print the result"
   ]
  },
  {
   "cell_type": "markdown",
   "id": "2920ab9c-81b0-437b-aa87-c84278c0d500",
   "metadata": {},
   "source": [
    "4. Create a Python function that accepts a variable number of arguments and calculates their sum."
   ]
  },
  {
   "cell_type": "code",
   "execution_count": 23,
   "id": "347c7d8f-f1d7-4f21-85db-a7957c2be767",
   "metadata": {},
   "outputs": [],
   "source": [
    "def sum_numbers(*args):\n",
    "    return sum(args)"
   ]
  },
  {
   "cell_type": "code",
   "execution_count": 25,
   "id": "eef0c2c9-4432-4980-8ede-95d23dfe069b",
   "metadata": {},
   "outputs": [
    {
     "data": {
      "text/plain": [
       "32"
      ]
     },
     "execution_count": 25,
     "metadata": {},
     "output_type": "execute_result"
    }
   ],
   "source": [
    "sum_numbers(2, 3, 5, 5, 8, 9)"
   ]
  },
  {
   "cell_type": "markdown",
   "id": "9f07d488-764b-47f2-acbf-00206ef1f613",
   "metadata": {},
   "source": [
    "1. Define a function called sum_numbers inside these function will take n numbers of arguments\n",
    "2. These function will the return sum of all the numbers\n",
    "3. We will call these function and print the result "
   ]
  },
  {
   "cell_type": "markdown",
   "id": "32d67d8b-ee78-4ad6-a3a3-e19eb7cf0a80",
   "metadata": {},
   "source": [
    "5. What is the purpose of the `*args` and `**kwargs` syntax in function parameter lists?"
   ]
  },
  {
   "cell_type": "markdown",
   "id": "38c45439-25e1-49f7-8e59-cf1ac8aea217",
   "metadata": {},
   "source": [
    "The main purpose of *args is that it passes variable number of non-keyworded arguments and on which operation of the tuple can be performed. The main purpose of **kwargs is that it  passes variable number of keyword arguments dictionary to function on which operation of a dictionary can be performed."
   ]
  },
  {
   "cell_type": "markdown",
   "id": "98e7e15f-928a-4779-8e4e-65f3e66d28b9",
   "metadata": {},
   "source": [
    "# Return Values and Scoping:"
   ]
  },
  {
   "cell_type": "markdown",
   "id": "769550fa-5a94-4421-acea-d37728fa74f8",
   "metadata": {},
   "source": [
    "1. Describe the role of the `return` statement in Python functions and provide examples."
   ]
  },
  {
   "cell_type": "markdown",
   "id": "a95b862c-d6f5-4653-80ab-ca4f18359078",
   "metadata": {},
   "source": [
    "The Python return statement is a key component of functions and methods. You can use the return statement to make your functions send Python objects back to the caller code. These objects are known as the function's return value. You can use them to perform further computation in your programs."
   ]
  },
  {
   "cell_type": "markdown",
   "id": "2025dd6e-82f2-40e7-ae3e-c369eb1a7724",
   "metadata": {},
   "source": [
    "2. Explain the concept of variable scope in Python, including local and global variables"
   ]
  },
  {
   "cell_type": "markdown",
   "id": "e3eca5e8-1abb-4fb4-8615-d0ea673b6dea",
   "metadata": {},
   "source": [
    "Python Global variables are those which are not defined inside any function and have a global scope whereas Python local variables are those which are defined inside a function and their scope is limited to that function only."
   ]
  },
  {
   "cell_type": "markdown",
   "id": "30d40780-f343-4f99-905a-0359360136fb",
   "metadata": {},
   "source": [
    "3. Write a Python program that demonstrates the use of global variables within functions."
   ]
  },
  {
   "cell_type": "code",
   "execution_count": 4,
   "id": "0186983c-2d80-4505-bce7-f288d2c530f6",
   "metadata": {},
   "outputs": [
    {
     "name": "stdout",
     "output_type": "stream",
     "text": [
      "4\n"
     ]
    }
   ],
   "source": [
    "def global_variable():\n",
    "    global a\n",
    "    a += 2\n",
    "    print(a)\n",
    "\n",
    "a = 2\n",
    "global_variable()"
   ]
  },
  {
   "cell_type": "markdown",
   "id": "1bb12ea4-a441-4a0f-a61c-2c036679971e",
   "metadata": {},
   "source": [
    "1. Create a function global variable \n",
    "2. Inside the function we have metioned global variable by using global function which is a and also we are adding +2 inside the fucntion\n",
    "3. Create a variable outside the function which is having the integer value\n",
    "4. Call the function and print the result"
   ]
  },
  {
   "cell_type": "markdown",
   "id": "1602b33d-2323-401a-a7ba-2b0cb9764a50",
   "metadata": {},
   "source": [
    "4. Create a Python function that calculates the factorial of a number and returns it."
   ]
  },
  {
   "cell_type": "code",
   "execution_count": 14,
   "id": "4c4bd09f-829f-40e8-8977-c2a1144d9423",
   "metadata": {},
   "outputs": [],
   "source": [
    "def factorial(n):\n",
    "    if n == 0:\n",
    "        return 1\n",
    "    else:\n",
    "        return n * factorial(n - 1)"
   ]
  },
  {
   "cell_type": "code",
   "execution_count": 15,
   "id": "d48b2f18-f750-4c1c-965f-cc9da77b3cd3",
   "metadata": {},
   "outputs": [
    {
     "data": {
      "text/plain": [
       "120"
      ]
     },
     "execution_count": 15,
     "metadata": {},
     "output_type": "execute_result"
    }
   ],
   "source": [
    "factorial(5)"
   ]
  },
  {
   "cell_type": "markdown",
   "id": "10ffa7b3-e69d-4d29-8ff4-1da84567b17d",
   "metadata": {},
   "source": [
    "1. Define a function factorial which takes one argument \n",
    "2. By using if statement if the number is equal to 0 then return 1\n",
    "3. Else return factorial of that number \n",
    "4. Print the result "
   ]
  },
  {
   "cell_type": "markdown",
   "id": "c6b1b5c4-40d0-4f10-bb62-19fb0a9e7ea8",
   "metadata": {},
   "source": [
    "5. How can you access variables defined outside a function from within the function"
   ]
  },
  {
   "cell_type": "markdown",
   "id": "57e2dabc-ab4f-4bd4-bd83-e9ced5a8a300",
   "metadata": {},
   "source": [
    "a = 5\n",
    "def my_fun():\n",
    "    global a\n",
    "    a = 5 +10\n",
    "    return a\n",
    "my_fun()"
   ]
  },
  {
   "cell_type": "markdown",
   "id": "9a2e3bf1-b141-45ef-a525-5b0a29941d95",
   "metadata": {},
   "source": [
    "1. Create a variable outside the function\n",
    "2. Create a function called my_fun inside the function by using the global keyword we can access the variable which are define outside the function\n",
    "3. Inside the function we are adding 15 to the variable a \n",
    "4. Print the result "
   ]
  },
  {
   "cell_type": "markdown",
   "id": "51be27fa-c1fb-4953-a9be-9cc6de53e76d",
   "metadata": {},
   "source": [
    "# Lambda Functions and Higher-Order Functions:"
   ]
  },
  {
   "cell_type": "markdown",
   "id": "d8752d77-a462-4cee-9a66-302d553e6c4d",
   "metadata": {},
   "source": [
    "1. What are lambda functions in Python, and when are they typically used?"
   ]
  },
  {
   "cell_type": "markdown",
   "id": "1fc79110-0a8e-41e9-8176-c2d522ecca0e",
   "metadata": {},
   "source": [
    "lambda is a keyword in Python for defining the anonymous function. argument(s) is a placeholder, that is a variable that will be used to hold the value you want to pass into the function expression. A lambda function can have multiple variables depending on what we want to achieve."
   ]
  },
  {
   "cell_type": "markdown",
   "id": "f35fc6c2-99d2-4ec8-8b7b-335ace7cc358",
   "metadata": {},
   "source": [
    "2. Write a Python program that uses lambda functions to sort a list of tuples based on the second element."
   ]
  },
  {
   "cell_type": "code",
   "execution_count": 20,
   "id": "5566c06c-1c50-4028-b5a7-96b13ca26f7f",
   "metadata": {},
   "outputs": [],
   "source": [
    "subject_marks = [('English', 88), ('Science', 90), ('Maths', 97), ('Social sciences', 82)]"
   ]
  },
  {
   "cell_type": "code",
   "execution_count": 26,
   "id": "b8a57567-fba4-431c-b9fe-3273b335f1f4",
   "metadata": {},
   "outputs": [],
   "source": [
    "sorting_list = sorted(subject_marks, key = lambda x : x[1],reverse=False)"
   ]
  },
  {
   "cell_type": "code",
   "execution_count": 27,
   "id": "03352977-f460-441d-9774-c26b18a82709",
   "metadata": {},
   "outputs": [
    {
     "name": "stdout",
     "output_type": "stream",
     "text": [
      "[('Social sciences', 82), ('English', 88), ('Science', 90), ('Maths', 97)]\n"
     ]
    }
   ],
   "source": [
    "print(sorting_list)"
   ]
  },
  {
   "cell_type": "markdown",
   "id": "043ab474-0682-4f3f-b027-d1b2c9300fb6",
   "metadata": {},
   "source": [
    "1. Create a varaibale called subject marks which is having a list of tuples\n",
    "2. By usning the lambda function and sorted function by using the second element we have sorted list into the ascending order\n",
    "3. Print the result "
   ]
  },
  {
   "cell_type": "markdown",
   "id": "0bb28dd5-56a3-4461-b850-407727080a2e",
   "metadata": {},
   "source": [
    "3. Explain the concept of higher-order functions in Python, and provide an example."
   ]
  },
  {
   "cell_type": "code",
   "execution_count": 28,
   "id": "e17355ca-0cae-4fbd-809f-c5f5ed994558",
   "metadata": {},
   "outputs": [],
   "source": [
    "a = [1, 2, 3, 4, 5, 6]"
   ]
  },
  {
   "cell_type": "code",
   "execution_count": 29,
   "id": "4e515ff5-859c-447c-940f-19ad048e0061",
   "metadata": {},
   "outputs": [],
   "source": [
    "b = list(map(lambda x: x ** 2, a))"
   ]
  },
  {
   "cell_type": "code",
   "execution_count": 30,
   "id": "4bb9b025-21bb-4d7f-9bf4-55bd3eadd063",
   "metadata": {},
   "outputs": [
    {
     "name": "stdout",
     "output_type": "stream",
     "text": [
      "[1, 4, 9, 16, 25, 36]\n"
     ]
    }
   ],
   "source": [
    "print(b)"
   ]
  },
  {
   "cell_type": "markdown",
   "id": "b3863153-9776-44af-bb25-c44fc9709ebc",
   "metadata": {},
   "source": [
    "Higher-order functions are functions that take a function as a parameter and/or return a function as an output.\n",
    "\n",
    "A few useful higher-order functions are map(), filter(), and reduce(). map() and filter() are built-in functions, whereas reduce() is contained in functools() module."
   ]
  },
  {
   "cell_type": "markdown",
   "id": "20a08c61-c54f-4b39-95de-fb8da7fe9390",
   "metadata": {},
   "source": [
    "4. Create a Python function that takes a list of numbers and a function as arguments, applying the function to each element in the list."
   ]
  },
  {
   "cell_type": "code",
   "execution_count": 31,
   "id": "4d6c85e6-3ea4-4772-b9c2-c87c0a669788",
   "metadata": {},
   "outputs": [],
   "source": [
    "a = [1, 2, 3, 4, 5, 6]"
   ]
  },
  {
   "cell_type": "code",
   "execution_count": 32,
   "id": "6841db83-5ae1-43cb-adac-e767b752b6fa",
   "metadata": {},
   "outputs": [],
   "source": [
    "b = list(map(lambda x: x ** 2, a))"
   ]
  },
  {
   "cell_type": "code",
   "execution_count": 33,
   "id": "b0a0eb5c-2d79-4df2-9b9c-546bf562e755",
   "metadata": {},
   "outputs": [
    {
     "name": "stdout",
     "output_type": "stream",
     "text": [
      "[1, 4, 9, 16, 25, 36]\n"
     ]
    }
   ],
   "source": [
    "print(b)"
   ]
  },
  {
   "cell_type": "markdown",
   "id": "4fd68341-e3fb-4dca-8ff3-ebbbd9f7abe6",
   "metadata": {},
   "source": [
    "1. Create a list of numbers inside the varaible a\n",
    "2. By using the map function inside the map function we are using the lambda function applying the function of square to each of the element in the list \n",
    "3. Print the result "
   ]
  },
  {
   "cell_type": "markdown",
   "id": "3b0620ec-1715-474a-869e-c5d7493c45e2",
   "metadata": {},
   "source": [
    "# Built-in Functions:"
   ]
  },
  {
   "cell_type": "markdown",
   "id": "f0792f5d-f462-40fb-9bf0-38a639d6813b",
   "metadata": {},
   "source": [
    "1. Describe the role of built-in functions like `len()`, `max()`, and `min()` in Python."
   ]
  },
  {
   "cell_type": "code",
   "execution_count": 37,
   "id": "c8205a47-4c0a-4873-bb09-7d887b668341",
   "metadata": {},
   "outputs": [
    {
     "data": {
      "text/plain": [
       "6"
      ]
     },
     "execution_count": 37,
     "metadata": {},
     "output_type": "execute_result"
    }
   ],
   "source": [
    "a = [1, 2, 3, 4, 5, 6]\n",
    "len(a)"
   ]
  },
  {
   "cell_type": "markdown",
   "id": "dcacf80d-e1c8-46f8-aca7-750f8459eb7d",
   "metadata": {},
   "source": [
    "The len() function is used when we want how many elements are there inside the list or tuples."
   ]
  },
  {
   "cell_type": "code",
   "execution_count": 35,
   "id": "9c801560-9c54-4172-8327-d7e0935b44a1",
   "metadata": {},
   "outputs": [
    {
     "data": {
      "text/plain": [
       "1"
      ]
     },
     "execution_count": 35,
     "metadata": {},
     "output_type": "execute_result"
    }
   ],
   "source": [
    "a = [1, 2, 3, 4, 5, 6]\n",
    "min(a)"
   ]
  },
  {
   "cell_type": "markdown",
   "id": "4b6a3d87-7d3a-451b-9635-ebbca34bc7d0",
   "metadata": {},
   "source": [
    "The min() function is used when we want a minimum value of a list or tuple"
   ]
  },
  {
   "cell_type": "code",
   "execution_count": 36,
   "id": "2490e445-3839-4998-a363-8a9bd6b3e998",
   "metadata": {},
   "outputs": [
    {
     "data": {
      "text/plain": [
       "6"
      ]
     },
     "execution_count": 36,
     "metadata": {},
     "output_type": "execute_result"
    }
   ],
   "source": [
    "a = [1, 2, 3, 4, 5, 6]\n",
    "max(a)"
   ]
  },
  {
   "cell_type": "markdown",
   "id": "7d5c64f2-9ac1-41ef-a5aa-96f5d746f4e3",
   "metadata": {},
   "source": [
    "The max() function is used when we want a max value of a list or tuple"
   ]
  },
  {
   "cell_type": "markdown",
   "id": "ccbe435d-1f24-4835-9624-732a2c230e2d",
   "metadata": {},
   "source": [
    "2. Write a Python program that uses the `map()` function to apply a function to each element of a list."
   ]
  },
  {
   "cell_type": "code",
   "execution_count": 38,
   "id": "61370b1b-92bb-45d0-9d52-26f851bb254b",
   "metadata": {},
   "outputs": [],
   "source": [
    "a = [1, 2, 3, 4, 5, 6]"
   ]
  },
  {
   "cell_type": "code",
   "execution_count": 39,
   "id": "c81b21c9-8618-4b4e-9574-7d60324864f1",
   "metadata": {},
   "outputs": [],
   "source": [
    "b = list(map(lambda x: x ** 2, a))"
   ]
  },
  {
   "cell_type": "markdown",
   "id": "1ca94d6c-2e2a-4090-a006-a44616c3d971",
   "metadata": {},
   "source": [
    "1. Create a list of numbers inside the varaible a\n",
    "2. By using the map function inside the map function we are using the lambda function applying the function of square to each of the element in the list \n",
    "3. Print the result "
   ]
  },
  {
   "cell_type": "markdown",
   "id": "e4e79a82-2787-4e66-9c3a-bea67a5b6bfc",
   "metadata": {},
   "source": [
    "3. How does the `filter()` function work in Python, and when would you use it?"
   ]
  },
  {
   "cell_type": "code",
   "execution_count": 41,
   "id": "085fad1f-5e16-4103-ac16-5742fe9fa8cf",
   "metadata": {},
   "outputs": [],
   "source": [
    "a = [1, 2, 3, 4, 5, 6]"
   ]
  },
  {
   "cell_type": "code",
   "execution_count": 42,
   "id": "d36a9436-4f55-4169-9e82-3c6c14dcf1e2",
   "metadata": {},
   "outputs": [],
   "source": [
    "def even(a):\n",
    "    return a % 2 == 0\n",
    "b = list(filter(even, a))"
   ]
  },
  {
   "cell_type": "code",
   "execution_count": 43,
   "id": "92d2323f-9b0e-435f-8a1b-9dab8ee95bb5",
   "metadata": {},
   "outputs": [
    {
     "name": "stdout",
     "output_type": "stream",
     "text": [
      "[2, 4, 6]\n"
     ]
    }
   ],
   "source": [
    "print(b)"
   ]
  },
  {
   "cell_type": "markdown",
   "id": "e58f0e66-0a7e-4d18-87b3-632d7459fe04",
   "metadata": {},
   "source": [
    "1. The purpose of the filter function is to filter out the element which is required for the user\n",
    "2. In filter function just like map or reduce function it will take the function and iterable as the arguments\n",
    "3. In the given example we have created one function called even it will return the number only divisible by 2\n",
    "4. By using the filter function inside the filter we are defining even number and it will iterate all the number inside the variable a \n",
    "5. Print the result"
   ]
  },
  {
   "cell_type": "markdown",
   "id": "f9e94320-833f-4193-8cc6-e76e00ba24fb",
   "metadata": {},
   "source": [
    "4. Create a Python program that uses the `reduce()` function to find the product of all elements in a list."
   ]
  },
  {
   "cell_type": "code",
   "execution_count": 45,
   "id": "a3ba2fa8-e28d-472f-aec2-01e7e3404d46",
   "metadata": {},
   "outputs": [],
   "source": [
    "import functools\n",
    "from functools import reduce\n",
    "a = [1, 2, 3, 4, 5, 6]"
   ]
  },
  {
   "cell_type": "code",
   "execution_count": 46,
   "id": "f9ed06f1-46f1-4d70-80a5-38a07647b8d6",
   "metadata": {},
   "outputs": [],
   "source": [
    "b = reduce(lambda x,y: x * y, a)"
   ]
  },
  {
   "cell_type": "code",
   "execution_count": 47,
   "id": "7869bc01-3820-43c1-9ec5-70ebaff6dfce",
   "metadata": {},
   "outputs": [
    {
     "name": "stdout",
     "output_type": "stream",
     "text": [
      "720\n"
     ]
    }
   ],
   "source": [
    "print(b)"
   ]
  },
  {
   "cell_type": "markdown",
   "id": "7244066d-24e3-4355-b2b3-2b92a249d911",
   "metadata": {},
   "source": [
    "1. Create list of numbers inside the variable a '\n",
    "2. Importing the library called functools from functools importing reduce \n",
    "3. By using the reduce function inside the reduce function we are using the lambda function which will give us the product of all elements in the list\n",
    "4. Print the result"
   ]
  },
  {
   "cell_type": "markdown",
   "id": "4a2b391c-5ea7-408c-a886-2d78b35a5bd5",
   "metadata": {},
   "source": [
    "# Function Documentation and Best Practices:"
   ]
  },
  {
   "cell_type": "markdown",
   "id": "260df3ec-bce6-4bb2-b289-31edec1f25b2",
   "metadata": {},
   "source": [
    "1. Explain the purpose of docstrings in Python functions and how to write them."
   ]
  },
  {
   "cell_type": "code",
   "execution_count": 49,
   "id": "83a34453-f8a9-445d-83ba-6bac033f8183",
   "metadata": {},
   "outputs": [],
   "source": [
    "def add(a,b):\n",
    "    \"\"\"These function is used to add the two numbers \"\"\"\n",
    "    return a + b"
   ]
  },
  {
   "cell_type": "code",
   "execution_count": 50,
   "id": "b1b90f0e-2b45-4464-84cf-0dcb6880ec48",
   "metadata": {},
   "outputs": [
    {
     "data": {
      "text/plain": [
       "1300"
      ]
     },
     "execution_count": 50,
     "metadata": {},
     "output_type": "execute_result"
    }
   ],
   "source": [
    "add(600, 700)"
   ]
  },
  {
   "cell_type": "markdown",
   "id": "34eafb29-742e-4c25-b3c8-a9bd1bab545e",
   "metadata": {},
   "source": [
    "The python documentataion string in fucntion is used to understand what the function does so the other programmers can understand by reading the details of that function and implement it as per need. The docsring can be write by using the single ''' or double \"\"\" quotes right after defining the function."
   ]
  },
  {
   "cell_type": "markdown",
   "id": "8716fd4a-b8da-4971-91b6-530869c7b8d5",
   "metadata": {},
   "source": [
    "2. Describe some best practices for naming functions and variables in Python, including naming conventions and guidelines."
   ]
  },
  {
   "cell_type": "markdown",
   "id": "48fd0b67-af76-4e42-8108-cf653d1b8116",
   "metadata": {},
   "source": [
    "In Python, the names of variables and functions should be lowercase. Individual words can be separated by underscores when needed. Method names should follow the same conventions as function names. \n",
    "\n",
    "Here are a few best practices to follow when naming your variables and functions:\n",
    "\n",
    "1. Constants should be represented by all capital letters and separated by underscores when needed \n",
    "2. Use names that are representative of the meaning of the object rather than meaningless, single-character names\n",
    "3. Names i, j, and k should be reserved for representing index values"
   ]
  },
  {
   "cell_type": "code",
   "execution_count": null,
   "id": "651f61b4-6f74-4a0e-ab6f-35a4ffbcf03c",
   "metadata": {},
   "outputs": [],
   "source": []
  }
 ],
 "metadata": {
  "kernelspec": {
   "display_name": "Python 3 (ipykernel)",
   "language": "python",
   "name": "python3"
  },
  "language_info": {
   "codemirror_mode": {
    "name": "ipython",
    "version": 3
   },
   "file_extension": ".py",
   "mimetype": "text/x-python",
   "name": "python",
   "nbconvert_exporter": "python",
   "pygments_lexer": "ipython3",
   "version": "3.10.8"
  }
 },
 "nbformat": 4,
 "nbformat_minor": 5
}
